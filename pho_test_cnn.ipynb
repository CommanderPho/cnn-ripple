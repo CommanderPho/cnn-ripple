{
 "cells": [
  {
   "cell_type": "code",
   "execution_count": 14,
   "id": "5433baa1-3a3d-42ef-b028-423ed794b6a8",
   "metadata": {},
   "outputs": [
    {
     "name": "stdout",
     "output_type": "stream",
     "text": [
      "Automatic pdb calling has been turned OFF\n",
      "The autoreload extension is already loaded. To reload it, use:\n",
      "  %reload_ext autoreload\n"
     ]
    }
   ],
   "source": [
    "\"\"\"\n",
    "@author: pho\n",
    "\"\"\"\n",
    "## Automatic debugger on exception raised\n",
    "# %pdb on\n",
    "%pdb off\n",
    "%load_ext autoreload\n",
    "%autoreload 2\n",
    "import sys\n",
    "import importlib\n",
    "from pathlib import Path\n",
    "from copy import deepcopy\n",
    "from numba import jit\n",
    "import numpy as np\n",
    "import pandas as pd\n",
    "\n",
    "%config Completer.use_jedi = False\n",
    "\n",
    "# # required to enable non-blocking interaction:\n",
    "%gui qt5\n",
    "\n",
    "import os\n",
    "import numpy as np\n",
    "import pandas as pd\n",
    "from pathlib import Path\n",
    "# import pickle\n",
    "import dill as pickle\n",
    "\n",
    "from neuropy.utils.load_exported import LoadXml, find_session_xml # for compute_with_params_loaded_from_xml"
   ]
  },
  {
   "cell_type": "code",
   "execution_count": null,
   "id": "6429fe5f-d8ee-4acf-8817-b11db700b70b",
   "metadata": {},
   "outputs": [],
   "source": [
    "pwd()"
   ]
  },
  {
   "cell_type": "code",
   "execution_count": 2,
   "id": "a26aad8b-4f2d-473e-bf9e-2369373393d2",
   "metadata": {},
   "outputs": [
    {
     "name": "stdout",
     "output_type": "stream",
     "text": [
      "Automatic pdb calling has been turned ON\n"
     ]
    }
   ],
   "source": [
    "%pdb on"
   ]
  },
  {
   "cell_type": "code",
   "execution_count": 3,
   "id": "28c46a3a-f1c0-46e3-adbc-556adfe84b4a",
   "metadata": {},
   "outputs": [
    {
     "data": {
      "text/plain": [
       "WindowsPath('W:/Data/KDIBA/gor01/one/2006-6-07_11-26-53')"
      ]
     },
     "execution_count": 3,
     "metadata": {},
     "output_type": "execute_result"
    }
   ],
   "source": [
    "# cd(r'C:\\\\Users\\\\pho\\\\repos\\\\cnn-ripple')\n",
    "\n",
    "from src.cnn.PhoRippleDetectionTesting import ExtendedRippleDetection, main_compute_with_params_loaded_from_xml\n",
    "\n",
    "local_session_parent_path = Path(r'W:\\Data\\KDIBA\\gor01\\one')\n",
    "local_session_names_list = ['2006-6-07_11-26-53', '2006-6-08_14-26-15', '2006-6-09_1-22-43', '2006-6-09_3-23-37', '2006-6-12_15-55-31', '2006-6-13_14-42-6']\n",
    "local_session_paths_list = [local_session_parent_path.joinpath(a_name).resolve() for a_name in local_session_names_list]\n",
    "\n",
    "local_session_path: Path = local_session_paths_list[0]\n",
    "local_session_path"
   ]
  },
  {
   "cell_type": "code",
   "execution_count": 6,
   "id": "a89c89e8-1002-449d-90d1-42da163af9d1",
   "metadata": {},
   "outputs": [
    {
     "name": "stdout",
     "output_type": "stream",
     "text": [
      "active_shank_channels_lists: [[0, 1, 2, 3, 4, 5, 6, 7], [8, 9, 10, 11, 12, 13, 14, 15], [16, 17, 18, 19, 20, 21, 22, 23]]\n"
     ]
    }
   ],
   "source": [
    "session_xml_filepath, session_stem, local_session_path = find_session_xml(local_session_path)\n",
    "out_xml_dict, d = LoadXml(session_xml_filepath)\n",
    "\n",
    "active_shank_channels_lists = out_xml_dict['AnatGrps']\n",
    "active_shank_channels_lists = [active_shank_channels_lists[i] for i in [0,1,2]]\n",
    "print(f\"active_shank_channels_lists: {active_shank_channels_lists}\")"
   ]
  },
  {
   "cell_type": "code",
   "execution_count": 5,
   "id": "02fb5421-8e98-4833-9c7a-f8dadcaf51f9",
   "metadata": {},
   "outputs": [
    {
     "name": "stdout",
     "output_type": "stream",
     "text": [
      "active_shank_channels_lists: [[0, 1, 2, 3, 4, 5, 6, 7], [8, 9, 10, 11, 12, 13, 14, 15], [16, 17, 18, 19, 20, 21, 22, 23], [24, 25, 26, 27, 28, 29, 30, 31], [32, 33, 34, 35, 36, 37, 38, 39], [40, 41, 42, 43, 44, 45, 46, 47], [48, 49, 50, 51, 52, 53, 54, 55], [56, 57, 58, 59, 60, 61, 62, 63], [64, 65, 66, 67, 68, 69, 70, 71], [72, 73, 74, 75, 76, 77, 78, 79], [80, 81, 82, 83, 84, 85, 86, 87], [88, 89, 90, 91, 92, 93, 94, 95]]\n"
     ]
    }
   ],
   "source": []
  },
  {
   "cell_type": "code",
   "execution_count": 8,
   "id": "5c3f79fe-15e1-4ff6-bf71-326041fa10e9",
   "metadata": {},
   "outputs": [
    {
     "name": "stdout",
     "output_type": "stream",
     "text": [
      "Loading CNN model... WARNING:tensorflow:SavedModel saved prior to TF 2.5 detected when loading Keras model. Please ensure that you are saving the model with model.save() or tf.keras.models.save_model(), *NOT* tf.saved_model.save(). To confirm, there should be a file named \"keras_metadata.pb\" in the SavedModel directory.\n",
      "Done!\n",
      "active_session_folder: W:\\Data\\KDIBA\\gor01\\one\\2006-6-07_11-26-53\n",
      "active_session_eeg_data_filepath: W:\\Data\\KDIBA\\gor01\\one\\2006-6-07_11-26-53\\2006-6-07_11-26-53.eeg\n",
      "Shape of loaded data:  (2476505, 96)\n",
      "Downsampling data from 1252 Hz to 1250 Hz... Done!\n",
      "working on shank 0 with channels: [0, 1, 2, 3, 4, 5, 6, 7]...\n",
      "Normalizing data... Done!\n",
      "Shape of loaded data after downsampling and z-score:  (2472549, 8)\n",
      "Generating windows... Done!\n",
      "9659/9659 [==============================] - 37s 4ms/step\n",
      "Done!\n",
      "Getting detected ripples indexes and times... Done!\n",
      "working on shank 1 with channels: [8, 9, 10, 11, 12, 13, 14, 15]...\n",
      "Normalizing data... Done!\n",
      "Shape of loaded data after downsampling and z-score:  (2472549, 8)\n",
      "Generating windows... Done!\n",
      "9659/9659 [==============================] - 35s 4ms/step\n",
      "Done!\n",
      "Getting detected ripples indexes and times... Done!\n",
      "working on shank 2 with channels: [16, 17, 18, 19, 20, 21, 22, 23]...\n",
      "Normalizing data... Done!\n",
      "Shape of loaded data after downsampling and z-score:  (2472549, 8)\n",
      "Generating windows... Done!\n",
      "9659/9659 [==============================] - 35s 4ms/step\n",
      "Done!\n",
      "Getting detected ripples indexes and times... Done!\n",
      "done with all!\n",
      "saving results to W:\\Data\\KDIBA\\gor01\\one\\2006-6-07_11-26-53\\out_all_ripple_results.pkl...\n",
      "done.\n",
      "flattened_pred_ripple_start_stop_times: (2, 2)\n",
      "Saving ripple_df to csv: W:\\Data\\KDIBA\\gor01\\one\\2006-6-07_11-26-53\\pred_ripples.csv\n",
      "done. Exiting.\n"
     ]
    }
   ],
   "source": [
    "## Build the detector:\n",
    "test_detector = ExtendedRippleDetection(learning_rate=0.001, beta_1=0.9, beta_2=0.999, epsilon=1e-07, amsgrad=False)\n",
    "ripple_df, out_all_ripple_results = test_detector.compute(**({'active_session_folder': local_session_path,\n",
    "     'numchannel': out_xml_dict['nChannels'], 'srLfp': out_xml_dict['lfpSampleRate'], 'active_shank_channels_lists': active_shank_channels_lists,\n",
    "     'overlapping': True, 'window_size': 0.0128, 'window_stride': 0.0064}))\n",
    "\n",
    "# out_all_ripple_results\n",
    "ripple_df.to_pickle(local_session_path.joinpath('ripple_df.pkl'))\n",
    "print(f'done. Exiting.')"
   ]
  },
  {
   "cell_type": "code",
   "execution_count": null,
   "id": "904095d7-b0f5-403d-9eb0-f932212eefca",
   "metadata": {},
   "outputs": [],
   "source": []
  },
  {
   "cell_type": "code",
   "execution_count": 22,
   "id": "c9fc8814-edeb-4f29-94bf-a17fdf39b23d",
   "metadata": {},
   "outputs": [
    {
     "data": {
      "text/plain": [
       "['active_session_folder',\n",
       " 'active_session_eeg_data_filepath',\n",
       " 'loaded_eeg_data',\n",
       " 'out_all_ripple_results',\n",
       " 'ripple_df',\n",
       " 'optimizer',\n",
       " 'model',\n",
       " '__module__',\n",
       " '__doc__',\n",
       " '__init__',\n",
       " 'compute',\n",
       " 'predicted_ripples_dataframe_csv_save_filepath',\n",
       " 'object_save_filepath',\n",
       " 'ripple_dataframe_pickle_save_filepath',\n",
       " '__getstate__',\n",
       " '__setstate__',\n",
       " 'save',\n",
       " 'readmulti',\n",
       " '_downsample_data',\n",
       " '_z_score_normalization',\n",
       " '_run_single_shank_computation',\n",
       " 'load_eeg_data',\n",
       " 'compute_ripples',\n",
       " '__dict__',\n",
       " '__weakref__',\n",
       " '__repr__',\n",
       " '__hash__',\n",
       " '__str__',\n",
       " '__getattribute__',\n",
       " '__setattr__',\n",
       " '__delattr__',\n",
       " '__lt__',\n",
       " '__le__',\n",
       " '__eq__',\n",
       " '__ne__',\n",
       " '__gt__',\n",
       " '__ge__',\n",
       " '__new__',\n",
       " '__reduce_ex__',\n",
       " '__reduce__',\n",
       " '__subclasshook__',\n",
       " '__init_subclass__',\n",
       " '__format__',\n",
       " '__sizeof__',\n",
       " '__dir__',\n",
       " '__class__']"
      ]
     },
     "execution_count": 22,
     "metadata": {},
     "output_type": "execute_result"
    }
   ],
   "source": [
    "test_detector.__dir__()"
   ]
  },
  {
   "cell_type": "code",
   "execution_count": 21,
   "id": "60deb6af-ff18-4ded-b82f-484a49edee57",
   "metadata": {},
   "outputs": [
    {
     "data": {
      "text/plain": [
       "<keras.optimizers.optimizer_v2.adam.Adam at 0x2bbf58ff370>"
      ]
     },
     "execution_count": 21,
     "metadata": {},
     "output_type": "execute_result"
    }
   ],
   "source": [
    "test_detector.model # keras.engine.sequential.Sequential\n",
    "test_detector.optimizer # keras.optimizers.optimizer_v2.adam.Adam"
   ]
  },
  {
   "cell_type": "code",
   "execution_count": 11,
   "id": "07b16f46-e1cd-49a6-82d7-1f02ace9fdcd",
   "metadata": {},
   "outputs": [
    {
     "data": {
      "text/plain": [
       "WindowsPath('W:/Data/KDIBA/gor01/one/2006-6-07_11-26-53')"
      ]
     },
     "execution_count": 11,
     "metadata": {},
     "output_type": "execute_result"
    }
   ],
   "source": [
    "test_detector.active_session_folder"
   ]
  },
  {
   "cell_type": "code",
   "execution_count": 15,
   "id": "6872aa42-7a68-4887-89cd-d7e39439d57e",
   "metadata": {},
   "outputs": [],
   "source": [
    "# Test pickling the whole ExtendedRippleDetection object\n",
    "out_ripple_detector_filepath = test_detector.active_session_folder.joinpath('ripple_detector.pkl')\n",
    "with open(out_ripple_detector_filepath, 'wb') as f:\n",
    "    print(f'saving entire ripple detector object to {str(out_ripple_detector_filepath)}...')\n",
    "    pickle.dump(test_detector, f)\n",
    "print(f'done.')"
   ]
  },
  {
   "cell_type": "code",
   "execution_count": 29,
   "id": "352af629-56f8-4866-9cb8-061011a20344",
   "metadata": {},
   "outputs": [],
   "source": [
    "## Unpickle the object from file:\n",
    "in_ripple_detector_filepath = out_ripple_detector_filepath\n",
    "with open(in_ripple_detector_filepath, 'rb') as f:\n",
    "    print(f'loading pickled ripple detector object from {str(in_ripple_detector_filepath)}...')\n",
    "    loaded_ripple_detector = pickle.load(f)\n",
    "print(f'done.')\n",
    "loaded_ripple_detector"
   ]
  },
  {
   "cell_type": "code",
   "execution_count": 31,
   "id": "8094f0b1-d5c8-430f-b69a-f8f3efea8e4f",
   "metadata": {},
   "outputs": [
    {
     "name": "stdout",
     "output_type": "stream",
     "text": [
      "loading pickled ripple detector object from W:\\Data\\KDIBA\\gor01\\one\\2006-6-07_11-26-53\\ripple_detector.pkl...\n",
      "Loading CNN model... WARNING:tensorflow:SavedModel saved prior to TF 2.5 detected when loading Keras model. Please ensure that you are saving the model with model.save() or tf.keras.models.save_model(), *NOT* tf.saved_model.save(). To confirm, there should be a file named \"keras_metadata.pb\" in the SavedModel directory.\n"
     ]
    },
    {
     "name": "stderr",
     "output_type": "stream",
     "text": [
      "WARNING:tensorflow:SavedModel saved prior to TF 2.5 detected when loading Keras model. Please ensure that you are saving the model with model.save() or tf.keras.models.save_model(), *NOT* tf.saved_model.save(). To confirm, there should be a file named \"keras_metadata.pb\" in the SavedModel directory.\n"
     ]
    },
    {
     "name": "stdout",
     "output_type": "stream",
     "text": [
      "Done!\n",
      "done.\n"
     ]
    },
    {
     "data": {
      "text/plain": [
       "<src.cnn.PhoRippleDetectionTesting.ExtendedRippleDetection at 0x2bbefb98af0>"
      ]
     },
     "execution_count": 31,
     "metadata": {},
     "output_type": "execute_result"
    }
   ],
   "source": [
    "in_ripple_detector_filepath = Path(r'W:\\Data\\KDIBA\\gor01\\one\\2006-6-07_11-26-53\\ripple_detector.pkl')\n",
    "loaded_ripple_detector = ExtendedRippleDetection.load(in_ripple_detector_filepath)\n",
    "loaded_ripple_detector"
   ]
  },
  {
   "cell_type": "code",
   "execution_count": null,
   "id": "faf037d5-76af-4ef2-8952-d58baab54445",
   "metadata": {},
   "outputs": [],
   "source": [
    "test_detector, ripple_df, out_all_ripple_results, out_all_ripple_results = main_compute_with_params_loaded_from_xml(active_local_session_path)"
   ]
  },
  {
   "cell_type": "code",
   "execution_count": 9,
   "id": "537547ba-bd1c-4da2-9229-c470738cd79b",
   "metadata": {},
   "outputs": [
    {
     "data": {
      "text/plain": [
       "array([[ -991., -1215., -1196., ...,  1432.,  2138.,  2170.],\n",
       "       [-1049., -1303., -1316., ...,  1240.,  1987.,  2030.],\n",
       "       [-1069., -1341., -1337., ...,  1338.,  1952.,  1962.],\n",
       "       ...,\n",
       "       [  268.,    33.,  -107., ...,  -694.,  -206.,  -325.],\n",
       "       [  272.,   107.,   -92., ...,  -196.,   333.,    47.],\n",
       "       [   91.,     5.,  -161., ...,   152.,   695.,   502.]],\n",
       "      dtype=float16)"
      ]
     },
     "execution_count": 9,
     "metadata": {},
     "output_type": "execute_result"
    }
   ],
   "source": [
    "\n",
    "out_all_ripple_results['preprocessed_data']['data']\n"
   ]
  },
  {
   "cell_type": "code",
   "execution_count": 24,
   "id": "97c85508-a504-4ae8-8478-77a2181a76a0",
   "metadata": {},
   "outputs": [],
   "source": [
    "out_all_ripple_results['computation_params']"
   ]
  },
  {
   "cell_type": "code",
   "execution_count": 26,
   "id": "7d0e45ea-fc18-4e0b-9613-54a7ff6dfdeb",
   "metadata": {},
   "outputs": [
    {
     "name": "stdout",
     "output_type": "stream",
     "text": [
      "['overlapping', 'window_size', 'stride', 'threshold', 'learning_rate', 'beta_1', 'beta_2', 'epsilon', 'amsgrad']\n"
     ]
    }
   ],
   "source": [
    "print(list(out_all_ripple_results['computation_params'].keys()))"
   ]
  },
  {
   "cell_type": "code",
   "execution_count": 27,
   "id": "d64e14b9-f9bb-4f01-b3c8-fd63d80848a8",
   "metadata": {},
   "outputs": [
    {
     "data": {
      "text/plain": [
       "{'learning_rate': 0.001,\n",
       " 'beta_1': 0.9,\n",
       " 'beta_2': 0.999,\n",
       " 'epsilon': 1e-07,\n",
       " 'amsgrad': False}"
      ]
     },
     "execution_count": 27,
     "metadata": {},
     "output_type": "execute_result"
    }
   ],
   "source": [
    "from neuropy.utils.dynamic_container import DynamicContainer, override_dict, overriding_dict_with, get_dict_subset\n",
    "\n",
    "# ['overlapping', 'window_size', 'stride', 'threshold', 'learning_rate', 'beta_1', 'beta_2', 'epsilon', 'amsgrad']\n",
    "get_dict_subset(out_all_ripple_results['computation_params'], ['learning_rate', 'beta_1', 'beta_2', 'epsilon', 'amsgrad'])"
   ]
  },
  {
   "cell_type": "code",
   "execution_count": 28,
   "id": "c4f2f2f9-a693-46db-b818-91712cb9a66b",
   "metadata": {},
   "outputs": [
    {
     "name": "stdout",
     "output_type": "stream",
     "text": [
      "saving entire ripple detector object to W:\\Data\\KDIBA\\gor01\\one\\2006-6-07_11-26-53\\ripple_detector.pkl...\n",
      "done.\n"
     ]
    }
   ],
   "source": [
    "test_detector.save()"
   ]
  }
 ],
 "metadata": {
  "kernelspec": {
   "display_name": "Python [conda env:cnn-new-env]",
   "language": "python",
   "name": "conda-env-cnn-new-env-py"
  },
  "language_info": {
   "codemirror_mode": {
    "name": "ipython",
    "version": 3
   },
   "file_extension": ".py",
   "mimetype": "text/x-python",
   "name": "python",
   "nbconvert_exporter": "python",
   "pygments_lexer": "ipython3",
   "version": "3.9.13"
  }
 },
 "nbformat": 4,
 "nbformat_minor": 5
}
