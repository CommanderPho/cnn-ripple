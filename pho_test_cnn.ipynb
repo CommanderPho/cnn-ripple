{
 "cells": [
  {
   "cell_type": "code",
   "execution_count": 1,
   "id": "231ba909-2b0a-4b0d-92c7-cae77411c712",
   "metadata": {},
   "outputs": [
    {
     "name": "stdout",
     "output_type": "stream",
     "text": [
      "Automatic pdb calling has been turned OFF\n"
     ]
    }
   ],
   "source": [
    "\"\"\"\n",
    "@author: pho\n",
    "\"\"\"\n",
    "## Automatic debugger on exception raised\n",
    "# %pdb on\n",
    "%pdb off\n",
    "%load_ext autoreload\n",
    "%autoreload 2\n",
    "import sys\n",
    "import importlib\n",
    "from pathlib import Path\n",
    "from copy import deepcopy\n",
    "from numba import jit\n",
    "import numpy as np\n",
    "import pandas as pd\n",
    "\n",
    "%config Completer.use_jedi = False\n",
    "\n",
    "# # required to enable non-blocking interaction:\n",
    "%gui qt5\n",
    "\n",
    "import os\n",
    "import numpy as np\n",
    "import pandas as pd\n",
    "from pathlib import Path\n",
    "import dill as pickle\n",
    "\n",
    "from neuropy.utils.load_exported import LoadXml, find_session_xml # for compute_with_params_loaded_from_xml\n",
    "# from src.cnn.PhoRippleDetectionTesting import ExtendedRippleDetection, main_compute_with_params_loaded_from_xml\n",
    "from cnn_ripple.PhoRippleDetectionTesting import ExtendedRippleDetection, main_compute_with_params_loaded_from_xml\n",
    "# from src.cnn.PhoRippleDetectionTesting import ExtendedRippleDetection, main_compute_with_params_loaded_from_xml"
   ]
  },
  {
   "cell_type": "code",
   "execution_count": 2,
   "id": "eafbe6d6-387c-40de-b54e-071df588b31d",
   "metadata": {},
   "outputs": [
    {
     "data": {
      "text/plain": [
       "WindowsPath('W:/Data/KDIBA/gor01/one/2006-6-09_1-22-43')"
      ]
     },
     "execution_count": 2,
     "metadata": {},
     "output_type": "execute_result"
    }
   ],
   "source": [
    "local_session_parent_path = Path(r'W:\\Data\\KDIBA\\gor01\\one')\n",
    "local_session_names_list = ['2006-6-07_11-26-53', '2006-6-08_14-26-15', '2006-6-09_1-22-43', '2006-6-09_3-23-37', '2006-6-12_15-55-31', '2006-6-13_14-42-6']\n",
    "local_session_paths_list = [local_session_parent_path.joinpath(a_name).resolve() for a_name in local_session_names_list]\n",
    "\n",
    "local_session_path: Path = local_session_paths_list[2]\n",
    "local_session_path"
   ]
  },
  {
   "cell_type": "code",
   "execution_count": null,
   "id": "448fada4-1405-430f-8233-a574a56b68ad",
   "metadata": {},
   "outputs": [],
   "source": [
    "session_xml_filepath, session_stem, local_session_path = find_session_xml(local_session_path)\n",
    "out_xml_dict, d = LoadXml(session_xml_filepath)\n",
    "\n",
    "active_shank_channels_lists = out_xml_dict['AnatGrps']\n",
    "active_shank_channels_lists = [active_shank_channels_lists[i] for i in [0,1,2]]\n",
    "print(f\"active_shank_channels_lists: {active_shank_channels_lists}\")"
   ]
  },
  {
   "cell_type": "markdown",
   "id": "99619d6a-cf98-4aa9-a376-14c8ddd1e155",
   "metadata": {
    "tags": []
   },
   "source": [
    "## Load previously computed result"
   ]
  },
  {
   "cell_type": "code",
   "execution_count": null,
   "id": "2773a6e7-8ee6-4b50-9a23-cff50f699a32",
   "metadata": {},
   "outputs": [],
   "source": [
    "# in_ripple_detector_filepath = Path(r'W:\\Data\\KDIBA\\gor01\\one\\2006-6-07_11-26-53\\ripple_detector.pkl')\n",
    "in_ripple_detector_filepath = local_session_path.joinpath('ripple_detector.pkl')\n",
    "print(f'in_ripple_detector_filepath: {in_ripple_detector_filepath}')\n",
    "loaded_ripple_detector = ExtendedRippleDetection.load(in_ripple_detector_filepath)\n",
    "# loaded_ripple_detector = _renaming_load(in_ripple_detector_filepath)\n",
    "loaded_ripple_detector.save()\n",
    "loaded_ripple_detector"
   ]
  },
  {
   "cell_type": "code",
   "execution_count": null,
   "id": "0a47e4b0-0083-44d6-afbe-6f21d01d8ad2",
   "metadata": {},
   "outputs": [],
   "source": [
    "# Batch resave previous pickles:\n",
    "for local_session_path in local_session_paths_list:\n",
    "    in_ripple_detector_filepath = local_session_path.joinpath('ripple_detector.pkl')\n",
    "    print(f'in_ripple_detector_filepath: {in_ripple_detector_filepath}')\n",
    "    loaded_ripple_detector = ExtendedRippleDetection.load(in_ripple_detector_filepath)\n",
    "    loaded_ripple_detector.save()"
   ]
  },
  {
   "cell_type": "markdown",
   "id": "13962a16-9027-4307-84ca-3e86d6197430",
   "metadata": {
    "tags": []
   },
   "source": [
    "## Build and run completely new detector:"
   ]
  },
  {
   "cell_type": "code",
   "execution_count": null,
   "id": "1f8582a0-7dc6-45ca-8d73-a16d00d338a3",
   "metadata": {},
   "outputs": [],
   "source": [
    "test_detector = ExtendedRippleDetection(learning_rate=0.001, beta_1=0.9, beta_2=0.999, epsilon=1e-07, amsgrad=False)\n",
    "ripple_df, out_all_ripple_results = test_detector.compute(**({'active_session_folder': local_session_path,\n",
    "     'numchannel': out_xml_dict['nChannels'], 'srLfp': out_xml_dict['lfpSampleRate'], 'active_shank_channels_lists': active_shank_channels_lists,\n",
    "     'overlapping': True, 'window_size': 0.0128, 'window_stride': 0.0064}))\n",
    "\n",
    "# out_all_ripple_results\n",
    "ripple_df.to_pickle(local_session_path.joinpath('ripple_df.pkl'))\n",
    "print(f'done. Exiting.')\n",
    "\n",
    "test_detector.save()"
   ]
  },
  {
   "cell_type": "markdown",
   "id": "5a49c0ba-6847-40b6-93eb-2f3f585b876e",
   "metadata": {},
   "source": [
    "# Result Visualization"
   ]
  },
  {
   "cell_type": "code",
   "execution_count": null,
   "id": "6835a848-0270-42f1-8b96-86613512da3a",
   "metadata": {},
   "outputs": [],
   "source": [
    "from src.cnn.visualizations.plot_ripples import plot_ripples\n",
    "\n",
    "#@title Time (in seconds) { run: \"auto\", vertical-output: true, display-mode: \"form\" }\n",
    "second =  0#@param {type:\"integer\"}\n",
    "\n",
    "pred_indexes = loaded_ripple_detector.results[0]['pred_indexes'] # note only uses shank 0\n",
    "fig, ax, plot_data = plot_ripples(loaded_ripple_detector.loaded_eeg_data, pred_indexes, second, downsampled_fs=1250)\n",
    "# plot_data: {'lines':lines, 'fills':fills}"
   ]
  },
  {
   "cell_type": "code",
   "execution_count": null,
   "id": "464c744f-2c48-4677-a340-a21a64c01c46",
   "metadata": {},
   "outputs": [],
   "source": []
  },
  {
   "cell_type": "markdown",
   "id": "78c2f0c5-0b58-4ded-9c8a-4fb03324a1d5",
   "metadata": {
    "jp-MarkdownHeadingCollapsed": true,
    "tags": []
   },
   "source": [
    "# Overflow"
   ]
  },
  {
   "cell_type": "code",
   "execution_count": null,
   "id": "7d6a786a-8d1d-4649-9e14-cc696cb95937",
   "metadata": {},
   "outputs": [],
   "source": [
    "def keys(a_dict, debug_print=True):\n",
    "    out_list = list(a_dict.keys())\n",
    "    if debug_print:\n",
    "        print(out_list)\n",
    "    return out_list"
   ]
  },
  {
   "cell_type": "code",
   "execution_count": null,
   "id": "88cd42f9-a672-4607-a4b0-12e5316f1ccf",
   "metadata": {},
   "outputs": [],
   "source": [
    "test_detector, ripple_df, out_all_ripple_results, out_all_ripple_results = main_compute_with_params_loaded_from_xml(active_local_session_path)"
   ]
  },
  {
   "cell_type": "code",
   "execution_count": null,
   "id": "537547ba-bd1c-4da2-9229-c470738cd79b",
   "metadata": {},
   "outputs": [],
   "source": [
    "out_all_ripple_results['preprocessed_data']['data']"
   ]
  },
  {
   "cell_type": "code",
   "execution_count": null,
   "id": "97c85508-a504-4ae8-8478-77a2181a76a0",
   "metadata": {},
   "outputs": [],
   "source": [
    "out_all_ripple_results['computation_params']"
   ]
  },
  {
   "cell_type": "code",
   "execution_count": null,
   "id": "16559642-7112-4055-b537-f42dbeaf6192",
   "metadata": {},
   "outputs": [],
   "source": [
    "print(list(out_all_ripple_results['computation_params'].keys()))"
   ]
  },
  {
   "cell_type": "code",
   "execution_count": null,
   "id": "ce386abd-8cde-444f-85ed-d8ab66de01ce",
   "metadata": {},
   "outputs": [],
   "source": [
    "keys(out_all_ripple_results['computation_params'])\n",
    "keys(out_all_ripple_results['preprocessed_data'])\n",
    "keys(out_all_ripple_results['results'])"
   ]
  },
  {
   "cell_type": "code",
   "execution_count": null,
   "id": "d64e14b9-f9bb-4f01-b3c8-fd63d80848a8",
   "metadata": {},
   "outputs": [],
   "source": [
    "from neuropy.utils.dynamic_container import DynamicContainer, override_dict, overriding_dict_with, get_dict_subset\n",
    "\n",
    "# ['overlapping', 'window_size', 'stride', 'threshold', 'learning_rate', 'beta_1', 'beta_2', 'epsilon', 'amsgrad']\n",
    "get_dict_subset(out_all_ripple_results['computation_params'], ['learning_rate', 'beta_1', 'beta_2', 'epsilon', 'amsgrad'])"
   ]
  },
  {
   "cell_type": "code",
   "execution_count": null,
   "id": "6bdff934-d712-4832-93db-bd26c03e62ba",
   "metadata": {},
   "outputs": [],
   "source": [
    "test_detector.save()"
   ]
  },
  {
   "cell_type": "code",
   "execution_count": null,
   "id": "3d015c86-bbac-42da-be8b-7974b77872e5",
   "metadata": {},
   "outputs": [],
   "source": [
    "loaded_ripple_detector.loaded_eeg_data"
   ]
  },
  {
   "cell_type": "code",
   "execution_count": null,
   "id": "72442eb4-12de-47a3-aceb-e53e26f0f018",
   "metadata": {},
   "outputs": [],
   "source": [
    "keys(loaded_ripple_detector.results[0]['pred_indexes'])"
   ]
  },
  {
   "cell_type": "code",
   "execution_count": null,
   "id": "1a8bf529-7994-449b-815e-99082835a7f0",
   "metadata": {},
   "outputs": [],
   "source": []
  },
  {
   "cell_type": "code",
   "execution_count": null,
   "id": "2259d449-cd9c-4d13-b2cf-f51225159776",
   "metadata": {},
   "outputs": [],
   "source": []
  }
 ],
 "metadata": {
  "kernelspec": {
   "display_name": "Python [conda env:cnn-new-env]",
   "language": "python",
   "name": "conda-env-cnn-new-env-py"
  },
  "language_info": {
   "codemirror_mode": {
    "name": "ipython",
    "version": 3
   },
   "file_extension": ".py",
   "mimetype": "text/x-python",
   "name": "python",
   "nbconvert_exporter": "python",
   "pygments_lexer": "ipython3",
   "version": "3.9.13"
  }
 },
 "nbformat": 4,
 "nbformat_minor": 5
}
