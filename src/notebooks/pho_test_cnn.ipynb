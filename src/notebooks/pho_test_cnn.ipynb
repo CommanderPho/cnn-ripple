{
 "cells": [
  {
   "cell_type": "code",
   "execution_count": 27,
   "id": "231ba909-2b0a-4b0d-92c7-cae77411c712",
   "metadata": {},
   "outputs": [
    {
     "name": "stdout",
     "output_type": "stream",
     "text": [
      "Automatic pdb calling has been turned OFF\n",
      "The viztracer extension is already loaded. To reload it, use:\n",
      "  %reload_ext viztracer\n",
      "The autoreload extension is already loaded. To reload it, use:\n",
      "  %reload_ext autoreload\n"
     ]
    }
   ],
   "source": [
    "\"\"\"\n",
    "@author: pho\n",
    "\"\"\"\n",
    "## Automatic debugger on exception raised\n",
    "# %pdb on\n",
    "%pdb off\n",
    "%load_ext viztracer\n",
    "%load_ext autoreload\n",
    "%autoreload 2\n",
    "import sys\n",
    "import importlib\n",
    "from pathlib import Path\n",
    "from copy import deepcopy\n",
    "from numba import jit\n",
    "import numpy as np\n",
    "import pandas as pd\n",
    "\n",
    "%config Completer.use_jedi = False\n",
    "\n",
    "import os\n",
    "import numpy as np\n",
    "import pandas as pd\n",
    "from pathlib import Path\n",
    "import dill as pickle\n",
    "\n",
    "from neuropy.utils.load_exported import LoadXml, find_session_xml # for compute_with_params_loaded_from_xml\n",
    "from cnn_ripple.PhoRippleDetectionTesting import ExtendedRippleDetection, main_compute_with_params_loaded_from_xml, load_cnn_computed_ripples\n",
    "\n",
    "## 2022-12-06 - Copied verbatim from pho_test_load_saved_cnn.ipynb:\n",
    "\"\"\" TODO: refactor this into the session loading like the other imported properties \"\"\"\n",
    "def _perform_load_cnn_computed_ripples(active_local_session_path):\n",
    "    ## Load existing result instead\n",
    "    ripple_predicted_csv_filepath = active_local_session_path.joinpath('pred_ripples.csv')\n",
    "    ripple_df_filepath = active_local_session_path.joinpath('ripple_df.pkl')\n",
    "    \n",
    "    in_ripple_detector_filepath = active_local_session_path.joinpath('ripple_detector.pkl') # Path(r'W:\\Data\\KDIBA\\gor01\\one\\2006-6-07_11-26-53\\ripple_detector.pkl')\n",
    "    loaded_ripple_detector = ExtendedRippleDetection.load(in_ripple_detector_filepath)\n",
    "    return loaded_ripple_detector\n",
    "\n",
    "def _find_local_session_paths(local_session_parent_path, blacklist=[], debug_print=True):\n",
    "    try:\n",
    "        found_local_session_paths_list = [x for x in local_session_parent_path.iterdir() if x.is_dir()]\n",
    "        local_session_names_list = [a_path.name for a_path in found_local_session_paths_list if a_path.name not in blacklist]\n",
    "        if debug_print:\n",
    "            print(f'local_session_names_list: {local_session_names_list}')\n",
    "        local_session_paths_list = [local_session_parent_path.joinpath(a_name).resolve() for a_name in local_session_names_list]\n",
    "        \n",
    "    except Exception as e:\n",
    "        print(f\"Error processing path: '{local_session_parent_path}' due to exception: {e}. Skipping...\")\n",
    "        local_session_paths_list = None\n",
    "        \n",
    "    return local_session_paths_list\n",
    "\n",
    "## Batch: Computes and saves the ripples for a single session folder:\n",
    "def _batch_compute_ripples(local_session_path):\n",
    "    \"\"\" Computes the ripples for a single session path  \"\"\"\n",
    "    print(f'Computing for \"{local_session_path}\"...')\n",
    "    try:\n",
    "        # active_detector, ripple_df, out_all_ripple_results = main_compute_with_params_loaded_from_xml(local_session_path)\n",
    "        loaded_ripple_detector = _perform_load_cnn_computed_ripples(local_session_path)\n",
    "        # ripple_predictions_df = loaded_ripple_detector.continuous_ripple_likelihoods_df\n",
    "        # prediction_timesteps = loaded_ripple_detector.continuous_ripple_prediction_timesteps\n",
    "        # prediction_values = loaded_ripple_detector.continuous_ripple_shanks_prediction_values_array \n",
    "        # new_ripple_df = loaded_ripple_detector.detected_ripple_epochs_df\n",
    "        # out_all_ripple_results =  DynamicContainer.init_from_dict(loaded_ripple_detector.out_all_ripple_results.copy())\n",
    "    except Exception as e:\n",
    "        print(f\"Error processing path: '{local_session_path}' due to exception: {e}. Skipping...\")\n",
    "        loaded_ripple_detector = None\n",
    "        \n",
    "    return loaded_ripple_detector"
   ]
  },
  {
   "cell_type": "code",
   "execution_count": 17,
   "id": "3ee50ca1-bbf9-4146-87ab-6ccac91dd6d8",
   "metadata": {},
   "outputs": [],
   "source": [
    "local_session_root_parent_path = Path(r'W:\\Data\\KDIBA') # Windows Apogee\n",
    "# local_session_root_parent_path = Path(r'/media/MAX/Data/KDIBA') # Diba Lab Workstation Linux\n",
    "# local_session_root_parent_path = Path(r'/Volumes/MoverNew/data/KDIBA') # rMBP\n",
    "automated_configs = {}"
   ]
  },
  {
   "cell_type": "code",
   "execution_count": 18,
   "id": "944896b5-ef03-4237-8731-526c7d378218",
   "metadata": {},
   "outputs": [
    {
     "name": "stdout",
     "output_type": "stream",
     "text": [
      "local_session_names_list: ['2006-6-07_11-26-53', '2006-6-08_14-26-15', '2006-6-09_1-22-43', '2006-6-09_3-23-37', '2006-6-12_15-55-31', '2006-6-13_14-42-6']\n"
     ]
    }
   ],
   "source": [
    "## Automated:\n",
    "local_session_parent_path = local_session_root_parent_path.joinpath('gor01', 'one')\n",
    "local_session_paths_list =  _find_local_session_paths(local_session_parent_path, blacklist=['PhoHelpers', 'Spike3D-Minimal-Test', 'Unused'])\n",
    "if local_session_paths_list:\n",
    "    automated_configs[str(local_session_parent_path)] = local_session_paths_list"
   ]
  },
  {
   "cell_type": "code",
   "execution_count": 19,
   "id": "7c23a5ec-face-4f2c-a6b2-32f398e5c6b4",
   "metadata": {},
   "outputs": [
    {
     "name": "stdout",
     "output_type": "stream",
     "text": [
      "local_session_names_list: ['2006-6-07_16-40-19', '2006-6-08_15-46-47', '2006-6-08_21-16-25']\n"
     ]
    }
   ],
   "source": [
    "## Automated:\n",
    "local_session_parent_path = local_session_root_parent_path.joinpath('gor01', 'two')\n",
    "local_session_paths_list =  _find_local_session_paths(local_session_parent_path, blacklist=[])\n",
    "if local_session_paths_list:\n",
    "    automated_configs[str(local_session_parent_path)] = local_session_paths_list"
   ]
  },
  {
   "cell_type": "code",
   "execution_count": 20,
   "id": "4bb358a3-e5de-43eb-be0e-d85024e03fda",
   "metadata": {},
   "outputs": [
    {
     "name": "stdout",
     "output_type": "stream",
     "text": [
      "Error processing path: 'W:\\Data\\KDIBA\\vvp01\\one' due to exception: [WinError 3] The system cannot find the path specified: 'W:\\\\Data\\\\KDIBA\\\\vvp01\\\\one'. Skipping...\n"
     ]
    }
   ],
   "source": [
    "## Automated:\n",
    "local_session_parent_path = local_session_root_parent_path.joinpath('vvp01', 'one')\n",
    "local_session_paths_list =  _find_local_session_paths(local_session_parent_path, blacklist=[])\n",
    "if local_session_paths_list:\n",
    "    automated_configs[str(local_session_parent_path)] = local_session_paths_list"
   ]
  },
  {
   "cell_type": "code",
   "execution_count": 21,
   "id": "6d6ad58f-e65e-4fdf-a0ad-f3d6eb40906e",
   "metadata": {},
   "outputs": [
    {
     "name": "stdout",
     "output_type": "stream",
     "text": [
      "Error processing path: 'W:\\Data\\KDIBA\\vvp01\\two' due to exception: [WinError 3] The system cannot find the path specified: 'W:\\\\Data\\\\KDIBA\\\\vvp01\\\\two'. Skipping...\n"
     ]
    }
   ],
   "source": [
    "## Automated:\n",
    "local_session_parent_path = local_session_root_parent_path.joinpath('vvp01', 'two')\n",
    "local_session_paths_list =  _find_local_session_paths(local_session_parent_path, blacklist=[])\n",
    "if local_session_paths_list:\n",
    "    automated_configs[str(local_session_parent_path)] = local_session_paths_list"
   ]
  },
  {
   "cell_type": "code",
   "execution_count": 22,
   "id": "5434d388-6bf1-4029-966d-d0475f137e70",
   "metadata": {},
   "outputs": [
    {
     "data": {
      "text/plain": [
       "{'W:\\\\Data\\\\KDIBA\\\\gor01\\\\one': [WindowsPath('W:/Data/KDIBA/gor01/one/2006-6-07_11-26-53'),\n",
       "  WindowsPath('W:/Data/KDIBA/gor01/one/2006-6-08_14-26-15'),\n",
       "  WindowsPath('W:/Data/KDIBA/gor01/one/2006-6-09_1-22-43'),\n",
       "  WindowsPath('W:/Data/KDIBA/gor01/one/2006-6-09_3-23-37'),\n",
       "  WindowsPath('W:/Data/KDIBA/gor01/one/2006-6-12_15-55-31'),\n",
       "  WindowsPath('W:/Data/KDIBA/gor01/one/2006-6-13_14-42-6')],\n",
       " 'W:\\\\Data\\\\KDIBA\\\\gor01\\\\two': [WindowsPath('W:/Data/KDIBA/gor01/two/2006-6-07_16-40-19'),\n",
       "  WindowsPath('W:/Data/KDIBA/gor01/two/2006-6-08_15-46-47'),\n",
       "  WindowsPath('W:/Data/KDIBA/gor01/two/2006-6-08_21-16-25')]}"
      ]
     },
     "execution_count": 22,
     "metadata": {},
     "output_type": "execute_result"
    }
   ],
   "source": [
    "automated_configs"
   ]
  },
  {
   "cell_type": "code",
   "execution_count": null,
   "id": "86fe4194-4808-43cd-a99b-888e4d4b608c",
   "metadata": {},
   "outputs": [],
   "source": []
  },
  {
   "cell_type": "code",
   "execution_count": 47,
   "id": "7be4f52a-3dce-4aa8-a4d9-cb1f51832d7d",
   "metadata": {
    "scrolled": true,
    "tags": []
   },
   "outputs": [
    {
     "name": "stdout",
     "output_type": "stream",
     "text": [
      "object size: 0.000061 MB\n"
     ]
    },
    {
     "data": {
      "text/plain": [
       "6.103515625e-05"
      ]
     },
     "execution_count": 47,
     "metadata": {},
     "output_type": "execute_result"
    }
   ],
   "source": [
    "from pyphocorehelpers.print_helpers import print_object_memory_usage, print_dataframe_memory_usage, print_keys_if_possible\n",
    "\n",
    "print_object_memory_usage(active_detector)"
   ]
  },
  {
   "cell_type": "code",
   "execution_count": 49,
   "id": "925c0ce2-789a-4a3a-91e4-0af8c431801c",
   "metadata": {
    "scrolled": true,
    "tags": []
   },
   "outputs": [
    {
     "name": "stdout",
     "output_type": "stream",
     "text": [
      "- active_detector: cnn_ripple.PhoRippleDetectionTesting.ExtendedRippleDetection\n",
      "\t- active_session_folder: pathlib.WindowsPath\n",
      "\t- active_session_eeg_data_filepath: pathlib.WindowsPath\n",
      "\t- loaded_eeg_data: numpy.ndarray - (2639400, 96)\n",
      "\t- out_all_ripple_results: dict\n",
      "\t\t- computation_params: dict\n",
      "\t\t\t- overlapping: bool\n",
      "\t\t\t- window_size: float\n",
      "\t\t\t- stride: float\n",
      "\t\t\t- threshold: float\n",
      "\t\t\t- learning_rate: float\n",
      "\t\t\t- beta_1: float\n",
      "\t\t\t- beta_2: float\n",
      "\t\t\t- epsilon: float\n",
      "\t\t\t- amsgrad: bool\n",
      "\t\t- results: dict\n",
      "\t\t\t- 0: dict\n",
      "\t\t\t\t- shank: int\n",
      "\t\t\t\t- channels: numpy.ndarray - (8,)\n",
      "\t\t\t\t- time_windows: numpy.ndarray - (329398, 16, 8)\n",
      "\t\t\t\t- predictions: numpy.ndarray - (329398, 1, 1)\n",
      "\t\t\t\t- pred_indexes: numpy.ndarray - (10, 2)\n",
      "\t\t\t\t- pred_times: numpy.ndarray - (10, 2)\n",
      "\t\t\t\t- data: numpy.ndarray - (2635184, 8)\n",
      "\t\t\t- 1: dict\n",
      "\t\t\t\t- shank: int\n",
      "\t\t\t\t- channels: numpy.ndarray - (8,)\n",
      "\t\t\t\t- time_windows: numpy.ndarray - (329398, 16, 8)\n",
      "\t\t\t\t- predictions: numpy.ndarray - (329398, 1, 1)\n",
      "\t\t\t\t- pred_indexes: numpy.ndarray - (2840, 2)\n",
      "\t\t\t\t- pred_times: numpy.ndarray - (2840, 2)\n",
      "\t\t\t\t- data: numpy.ndarray - (2635184, 8)\n",
      "\t\t\t- 2: dict\n",
      "\t\t\t\t- shank: int\n",
      "\t\t\t\t- channels: numpy.ndarray - (8,)\n",
      "\t\t\t\t- time_windows: numpy.ndarray - (329398, 16, 8)\n",
      "\t\t\t\t- predictions: numpy.ndarray - (329398, 1, 1)\n",
      "\t\t\t\t- pred_indexes: numpy.ndarray - (1817, 2)\n",
      "\t\t\t\t- pred_times: numpy.ndarray - (1817, 2)\n",
      "\t\t\t\t- data: numpy.ndarray - (2635184, 8)\n",
      "\t\t\t- 3: dict\n",
      "\t\t\t\t- shank: int\n",
      "\t\t\t\t- channels: numpy.ndarray - (8,)\n",
      "\t\t\t\t- time_windows: numpy.ndarray - (329398, 16, 8)\n",
      "\t\t\t\t- predictions: numpy.ndarray - (329398, 1, 1)\n",
      "\t\t\t\t- pred_indexes: numpy.ndarray - (0,)\n",
      "\t\t\t\t- pred_times: numpy.ndarray - (0,)\n",
      "\t\t\t\t- data: numpy.ndarray - (2635184, 8)\n",
      "\t\t\t- 4: dict\n",
      "\t\t\t\t- shank: int\n",
      "\t\t\t\t- channels: numpy.ndarray - (8,)\n",
      "\t\t\t\t- time_windows: numpy.ndarray - (329398, 16, 8)\n",
      "\t\t\t\t- predictions: numpy.ndarray - (329398, 1, 1)\n",
      "\t\t\t\t- pred_indexes: numpy.ndarray - (4, 2)\n",
      "\t\t\t\t- pred_times: numpy.ndarray - (4, 2)\n",
      "\t\t\t\t- data: numpy.ndarray - (2635184, 8)\n",
      "\t\t\t- 5: dict\n",
      "\t\t\t\t- shank: int\n",
      "\t\t\t\t- channels: numpy.ndarray - (8,)\n",
      "\t\t\t\t- time_windows: numpy.ndarray - (329398, 16, 8)\n",
      "\t\t\t\t- predictions: numpy.ndarray - (329398, 1, 1)\n",
      "\t\t\t\t- pred_indexes: numpy.ndarray - (1307, 2)\n",
      "\t\t\t\t- pred_times: numpy.ndarray - (1307, 2)\n",
      "\t\t\t\t- data: numpy.ndarray - (2635184, 8)\n",
      "\t\t\t- 6: dict\n",
      "\t\t\t\t- shank: int\n",
      "\t\t\t\t- channels: numpy.ndarray - (8,)\n",
      "\t\t\t\t- time_windows: numpy.ndarray - (329398, 16, 8)\n",
      "\t\t\t\t- predictions: numpy.ndarray - (329398, 1, 1)\n",
      "\t\t\t\t- pred_indexes: numpy.ndarray - (5, 2)\n",
      "\t\t\t\t- pred_times: numpy.ndarray - (5, 2)\n",
      "\t\t\t\t- data: numpy.ndarray - (2635184, 8)\n",
      "\t\t\t- 7: dict\n",
      "\t\t\t\t- shank: int\n",
      "\t\t\t\t- channels: numpy.ndarray - (8,)\n",
      "\t\t\t\t- time_windows: numpy.ndarray - (329398, 16, 8)\n",
      "\t\t\t\t- predictions: numpy.ndarray - (329398, 1, 1)\n",
      "\t\t\t\t- pred_indexes: numpy.ndarray - (0,)\n",
      "\t\t\t\t- pred_times: numpy.ndarray - (0,)\n",
      "\t\t\t\t- data: numpy.ndarray - (2635184, 8)\n",
      "\t\t\t- 8: dict\n",
      "\t\t\t\t- shank: int\n",
      "\t\t\t\t- channels: numpy.ndarray - (8,)\n",
      "\t\t\t\t- time_windows: numpy.ndarray - (329398, 16, 8)\n",
      "\t\t\t\t- predictions: numpy.ndarray - (329398, 1, 1)\n",
      "\t\t\t\t- pred_indexes: numpy.ndarray - (0,)\n",
      "\t\t\t\t- pred_times: numpy.ndarray - (0,)\n",
      "\t\t\t\t- data: numpy.ndarray - (2635184, 8)\n",
      "\t\t\t- 9: dict\n",
      "\t\t\t\t- shank: int\n",
      "\t\t\t\t- channels: numpy.ndarray - (8,)\n",
      "\t\t\t\t- time_windows: numpy.ndarray - (329398, 16, 8)\n",
      "\t\t\t\t- predictions: numpy.ndarray - (329398, 1, 1)\n",
      "\t\t\t\t- pred_indexes: numpy.ndarray - (2, 2)\n",
      "\t\t\t\t- pred_times: numpy.ndarray - (2, 2)\n",
      "\t\t\t\t- data: numpy.ndarray - (2635184, 8)\n",
      "\t\t\t- 10: dict\n",
      "\t\t\t\t- shank: int\n",
      "\t\t\t\t- channels: numpy.ndarray - (8,)\n",
      "\t\t\t\t- time_windows: numpy.ndarray - (329398, 16, 8)\n",
      "\t\t\t\t- predictions: numpy.ndarray - (329398, 1, 1)\n",
      "\t\t\t\t- pred_indexes: numpy.ndarray - (1, 2)\n",
      "\t\t\t\t- pred_times: numpy.ndarray - (1, 2)\n",
      "\t\t\t\t- data: numpy.ndarray - (2635184, 8)\n",
      "\t\t\t- 11: dict\n",
      "\t\t\t\t- shank: int\n",
      "\t\t\t\t- channels: numpy.ndarray - (8,)\n",
      "\t\t\t\t- time_windows: numpy.ndarray - (329398, 16, 8)\n",
      "\t\t\t\t- predictions: numpy.ndarray - (329398, 1, 1)\n",
      "\t\t\t\t- pred_indexes: numpy.ndarray - (24, 2)\n",
      "\t\t\t\t- pred_times: numpy.ndarray - (24, 2)\n",
      "\t\t\t\t- data: numpy.ndarray - (2635184, 8)\n",
      "\t\t- preprocessed_data: dict\n",
      "\t\t\t- data: numpy.ndarray - (2635184, 96)\n",
      "\t\t\t- post_downsampling_srLfp: int\n",
      "\t\t\t- flattened_channels_list: list - (96,)\n",
      "\t- _detected_ripple_epochs_df: pandas.core.frame.DataFrame - (6010, 4)\n",
      "\t- _continuous_ripple_likelihoods_df: pandas.core.frame.DataFrame - (329398, 13)\n",
      "\t- _continuous_ripple_prediction_timesteps: numpy.ndarray - (329398,)\n",
      "\t- _continuous_ripple_shanks_prediction_values_array: numpy.ndarray - (329398, 12)\n",
      "\t- optimizer: keras.optimizers.optimizer_v2.adam.Adam\n",
      "\t\t- _use_locking: bool\n",
      "\t\t- _name: str\n",
      "\t\t- _hyper: dict\n",
      "\t\t\t- learning_rate: float\n",
      "\t\t\t- decay: float\n",
      "\t\t\t- beta_1: float\n",
      "\t\t\t- beta_2: float\n",
      "\t\t- _slots: dict\n",
      "\t\t- _slot_names: list - (0,)\n",
      "\t\t- _weights: list - (0,)\n",
      "\t\t- _iterations: NoneType\n",
      "\t\t- _deferred_slot_restorations: dict\n",
      "\t\t- _initial_decay: float\n",
      "\t\t- _hypers_created: bool\n",
      "\t\t- _distribution_strategy: NoneType\n",
      "\t\t- gradient_aggregator: function\n",
      "\t\t- gradient_transformers: list - (0,)\n",
      "\t\t- _clipnorm: NoneType\n",
      "\t\t- _clipnorm_fn: function\n",
      "\t\t- _global_clipnorm: NoneType\n",
      "\t\t- _global_clipnorm_fn: function\n",
      "\t\t- _clipvalue: NoneType\n",
      "\t\t- _clipvalue_fn: function\n",
      "\t\t- epsilon: float\n",
      "\t\t- amsgrad: bool\n",
      "\t- model: keras.engine.sequential.Sequential\n",
      "\t\t- _self_setattr_tracking: bool\n",
      "\t\t- _is_model_for_instrumentation: bool\n",
      "\t\t- _instrumented_keras_api: bool\n",
      "\t\t- _instrumented_keras_layer_class: bool\n",
      "\t\t- _instrumented_keras_model_class: bool\n",
      "\t\t- _trainable: bool\n",
      "\t\t- _stateful: bool\n",
      "\t\t- _input_spec: NoneType\n",
      "\t\t- _build_input_shape: tensorflow.python.framework.tensor_shape.TensorShape\n",
      "\t\t- _saved_model_inputs_spec: tensorflow.python.framework.tensor_spec.TensorSpec\n",
      "\t\t- _saved_model_arg_spec: tuple - (2,)\n",
      "\t\t- _supports_masking: bool\n",
      "\t\t- _name: str\n",
      "\t\t- _activity_regularizer: NoneType\n",
      "\t\t- _trainable_weights: list - (0,)\n",
      "\t\t- _non_trainable_weights: list - (0,)\n",
      "\t\t- _updates: list - (0,)\n",
      "\t\t- _thread_local: _thread._local\n",
      "\t\t\t- _eager_losses: list - (0,)\n",
      "\t\t- _callable_losses: list - (0,)\n",
      "\t\t- _losses: list - (0,)\n",
      "\t\t- _metrics: list - (0,)\n",
      "\t\t- _metrics_lock: _thread.lock\n",
      "\t\t- _dtype_policy: keras.mixed_precision.policy.Policy\n",
      "\t\t\t- _name: str\n",
      "\t\t\t- _compute_dtype: str\n",
      "\t\t\t- _variable_dtype: str\n",
      "\t\t- _compute_dtype_object: tensorflow.python.framework.dtypes.DType\n",
      "\t\t\t- __doc__: str\n",
      "\t\t- _autocast: bool\n",
      "\t\t- _self_tracked_trackables: list - (23,)\n",
      "\t\t- _inbound_nodes_value: list - (0,)\n",
      "\t\t- _outbound_nodes_value: list - (0,)\n",
      "\t\t- _call_spec: keras.utils.layer_utils.CallFunctionSpec\n",
      "\t\t\t- _full_argspec: inspect.FullArgSpec - (7,)\n",
      "\t\t\t- _arg_names: list - (3,)\n",
      "\t\t\t- _expects_training_arg: bool\n",
      "\t\t\t- _expects_mask_arg: bool\n",
      "\t\t\t- _default_training_arg: NoneType\n",
      "\t\t- _dynamic: bool\n",
      "\t\t- _initial_weights: NoneType\n",
      "\t\t- _auto_track_sub_layers: bool\n",
      "\t\t- _preserve_input_structure_in_config: bool\n",
      "\t\t- _name_scope_on_declaration: str\n",
      "\t\t- _captured_weight_regularizer: list - (0,)\n",
      "\t\t- _is_graph_network: bool\n",
      "Unhandled exception for outer block: You are passing KerasTensor(type_spec=TensorSpec(shape=(None, None, 8), dtype=tf.float32, name='conv1d_input'), name='conv1d_input', description=\"created by layer 'conv1d_input'\"), an intermediate Keras symbolic input/output, to a TF API that does not allow registering custom dispatchers, such as `tf.cond`, `tf.function`, gradient tapes, or `tf.map_fn`. Keras Functional model construction only supports TF API calls that *do* support dispatching, such as `tf.math.add` or `tf.reshape`. Other APIs cannot be called directly on symbolic Kerasinputs/outputs. You can work around this limitation by putting the operation in a custom Keras layer `call` and calling that layer on this symbolic input/output.\n"
     ]
    },
    {
     "name": "stderr",
     "output_type": "stream",
     "text": [
      "C:\\Users\\pho\\miniconda3\\envs\\phoviz_ultimate\\lib\\site-packages\\numpy\\core\\fromnumeric.py:2007: VisibleDeprecationWarning: Creating an ndarray from ragged nested sequences (which is a list-or-tuple of lists-or-tuples-or ndarrays with different lengths or shapes) is deprecated. If you meant to do this, you must specify 'dtype=object' when creating the ndarray.\n",
      "  result = asarray(a).shape\n"
     ]
    }
   ],
   "source": [
    "print_keys_if_possible('active_detector', active_detector)"
   ]
  },
  {
   "cell_type": "code",
   "execution_count": 54,
   "id": "9fc22ef8-9611-4785-98d8-9bcf4fd7a479",
   "metadata": {
    "scrolled": true,
    "tags": []
   },
   "outputs": [
    {
     "name": "stdout",
     "output_type": "stream",
     "text": [
      "object size: 3875.409161 MB\n"
     ]
    },
    {
     "data": {
      "text/plain": [
       "3875.4091606140137"
      ]
     },
     "execution_count": 54,
     "metadata": {},
     "output_type": "execute_result"
    }
   ],
   "source": [
    "print_object_memory_usage(out_all_ripple_results['results'])"
   ]
  },
  {
   "cell_type": "code",
   "execution_count": 51,
   "id": "291aa679-e5b9-488f-8129-fa8f34c56c31",
   "metadata": {
    "scrolled": true,
    "tags": []
   },
   "outputs": [
    {
     "name": "stdout",
     "output_type": "stream",
     "text": [
      "object size: 0.000122 MB\n"
     ]
    },
    {
     "data": {
      "text/plain": [
       "0.0001220703125"
      ]
     },
     "execution_count": 51,
     "metadata": {},
     "output_type": "execute_result"
    }
   ],
   "source": [
    "print_object_memory_usage(active_detector.loaded_eeg_data)"
   ]
  },
  {
   "cell_type": "code",
   "execution_count": 50,
   "id": "b9076913-3215-4518-bf39-a7ff9d0db6a7",
   "metadata": {
    "scrolled": true,
    "tags": []
   },
   "outputs": [
    {
     "name": "stdout",
     "output_type": "stream",
     "text": [
      "object size: 4357.930027 MB\n"
     ]
    },
    {
     "data": {
      "text/plain": [
       "4357.930027008057"
      ]
     },
     "execution_count": 50,
     "metadata": {},
     "output_type": "execute_result"
    }
   ],
   "source": []
  },
  {
   "cell_type": "code",
   "execution_count": 43,
   "id": "6509836e-c259-4406-9bdf-fe315d664bc7",
   "metadata": {
    "scrolled": true,
    "tags": []
   },
   "outputs": [
    {
     "name": "stdout",
     "output_type": "stream",
     "text": [
      "object size: 0.723154 MB\n"
     ]
    },
    {
     "data": {
      "text/plain": [
       "0.7231540679931641"
      ]
     },
     "execution_count": 43,
     "metadata": {},
     "output_type": "execute_result"
    }
   ],
   "source": [
    "print_object_memory_usage(ripple_df)"
   ]
  },
  {
   "cell_type": "code",
   "execution_count": 29,
   "id": "a9e8858d-6001-499c-8dd1-f80a0fc21324",
   "metadata": {
    "scrolled": true,
    "tags": []
   },
   "outputs": [],
   "source": [
    "local_session_ripple_detectors = {}"
   ]
  },
  {
   "cell_type": "code",
   "execution_count": null,
   "id": "1cb016dd-37a9-4c51-b05b-cce45441a4ec",
   "metadata": {
    "scrolled": true,
    "tags": []
   },
   "outputs": [],
   "source": [
    "for local_session_parent_path, local_session_paths_list in automated_configs.items():\n",
    "    print(f'processing \"{local_session_parent_path} with {len(local_session_paths_list)} session paths...\"')\n",
    "    for local_session_path in local_session_paths_list:\n",
    "        curr_loaded_ripple_detector = _batch_compute_ripples(local_session_path) # this will save the output as well.\n",
    "        if curr_loaded_ripple_detector is not None:\n",
    "            local_session_ripple_detectors[local_session_path] = curr_loaded_ripple_detector.copy() # add to the outputs list\n",
    "    \n",
    "    print(f'DONE! Saved all: {local_session_paths_list}')\n",
    "    \n",
    "print(f'DONE! With ALL automated_configs')"
   ]
  },
  {
   "cell_type": "code",
   "execution_count": 37,
   "id": "e9ca5b14-1b19-4ce7-8ecc-7fed1d353a74",
   "metadata": {},
   "outputs": [
    {
     "data": {
      "text/plain": [
       "WindowsPath('W:/Data/KDIBA/gor01/one/2006-6-08_14-26-15')"
      ]
     },
     "execution_count": 37,
     "metadata": {},
     "output_type": "execute_result"
    }
   ],
   "source": [
    "## Test/Manual: Get specific session path to run on:\n",
    "local_session_parent_path = list(automated_configs.keys())[0]\n",
    "local_session_paths_list = automated_configs[local_session_parent_path]\n",
    "local_session_path = local_session_paths_list[1]\n",
    "local_session_path"
   ]
  },
  {
   "cell_type": "code",
   "execution_count": 38,
   "id": "c28e50ea-4b65-4db0-a8d0-9dfd62bfdd30",
   "metadata": {},
   "outputs": [
    {
     "name": "stdout",
     "output_type": "stream",
     "text": [
      "Computing for \"W:\\Data\\KDIBA\\gor01\\one\\2006-6-08_14-26-15\"...\n",
      "loading pickled ripple detector object from W:\\Data\\KDIBA\\gor01\\one\\2006-6-08_14-26-15\\ripple_detector.pkl...\n",
      "WARNING: _rebuild_ml_model_on_load is set to False, so not rebuilding the machine learning model after loading.\n",
      "done.\n"
     ]
    },
    {
     "data": {
      "application/vnd.jupyter.widget-view+json": {
       "model_id": "745acf75bbe744b2b15fdc3ede6eb310",
       "version_major": 2,
       "version_minor": 0
      },
      "text/plain": [
       "Button(description='VizTracer Report', style=ButtonStyle())"
      ]
     },
     "metadata": {},
     "output_type": "display_data"
    }
   ],
   "source": [
    "%%viztracer\n",
    "curr_loaded_ripple_detector = _batch_compute_ripples(local_session_path) # this will save the output as well.\n",
    "if curr_loaded_ripple_detector is not None:\n",
    "    local_session_ripple_detectors[local_session_path] = curr_loaded_ripple_detector # add to the outputs list"
   ]
  },
  {
   "cell_type": "code",
   "execution_count": 39,
   "id": "013d0548-33b6-4480-8524-c6db76a4fcf3",
   "metadata": {},
   "outputs": [
    {
     "name": "stdout",
     "output_type": "stream",
     "text": [
      "active_shank_channels_lists: [[72, 73, 74, 75, 76, 77, 78, 79], [80, 81, 82, 83, 84, 85, 86, 87], [88, 89, 90, 91, 92, 93, 94, 95], [56, 57, 58, 59, 60, 61, 62, 63], [40, 41, 42, 43, 44, 45, 46, 47], [32, 33, 34, 35, 36, 37, 38, 39], [8, 9, 10, 11, 12, 13, 14, 15], [48, 49, 50, 51, 52, 53, 54, 55], [24, 25, 26, 27, 28, 29, 30, 31], [0, 1, 2, 3, 4, 5, 6, 7], [16, 17, 18, 19, 20, 21, 22, 23], [64, 65, 66, 67, 68, 69, 70, 71]]\n",
      "Loading CNN model... WARNING:tensorflow:SavedModel saved prior to TF 2.5 detected when loading Keras model. Please ensure that you are saving the model with model.save() or tf.keras.models.save_model(), *NOT* tf.saved_model.save(). To confirm, there should be a file named \"keras_metadata.pb\" in the SavedModel directory.\n",
      "Done!\n",
      "active_session_folder: W:\\Data\\KDIBA\\gor01\\one\\2006-6-08_14-26-15\n",
      "active_session_eeg_data_filepath: W:\\Data\\KDIBA\\gor01\\one\\2006-6-08_14-26-15\\2006-6-08_14-26-15.eeg\n",
      "Shape of loaded data:  (2639400, 96)\n",
      "Downsampling data from 1252 Hz to 1250 Hz... Done!\n",
      "working on shank 0 with channels: [72, 73, 74, 75, 76, 77, 78, 79]...\n",
      "Normalizing data... Done!\n",
      "Shape of loaded data after downsampling and z-score:  (2635184, 8)\n",
      "Generating windows... Done!\n",
      "10294/10294 [==============================] - 9s 879us/step\n",
      "Done!\n",
      "Getting detected ripples indexes and times... Done!\n",
      "working on shank 1 with channels: [80, 81, 82, 83, 84, 85, 86, 87]...\n",
      "Normalizing data... Done!\n",
      "Shape of loaded data after downsampling and z-score:  (2635184, 8)\n",
      "Generating windows... Done!\n",
      "10294/10294 [==============================] - 9s 892us/step\n",
      "Done!\n",
      "Getting detected ripples indexes and times... Done!\n",
      "working on shank 2 with channels: [88, 89, 90, 91, 92, 93, 94, 95]...\n",
      "Normalizing data... Done!\n",
      "Shape of loaded data after downsampling and z-score:  (2635184, 8)\n",
      "Generating windows... Done!\n",
      "10294/10294 [==============================] - 9s 894us/step\n",
      "Done!\n",
      "Getting detected ripples indexes and times... Done!\n",
      "working on shank 3 with channels: [56, 57, 58, 59, 60, 61, 62, 63]...\n",
      "Normalizing data... Done!\n",
      "Shape of loaded data after downsampling and z-score:  (2635184, 8)\n",
      "Generating windows... Done!\n",
      "10294/10294 [==============================] - 9s 890us/step\n",
      "Done!\n",
      "Getting detected ripples indexes and times... Done!\n",
      "working on shank 4 with channels: [40, 41, 42, 43, 44, 45, 46, 47]...\n",
      "Normalizing data... Done!\n",
      "Shape of loaded data after downsampling and z-score:  (2635184, 8)\n",
      "Generating windows... Done!\n",
      "10294/10294 [==============================] - 9s 865us/step\n",
      "Done!\n",
      "Getting detected ripples indexes and times... Done!\n",
      "working on shank 5 with channels: [32, 33, 34, 35, 36, 37, 38, 39]...\n",
      "Normalizing data... Done!\n",
      "Shape of loaded data after downsampling and z-score:  (2635184, 8)\n",
      "Generating windows... Done!\n",
      "10294/10294 [==============================] - 9s 886us/step\n",
      "Done!\n",
      "Getting detected ripples indexes and times... Done!\n",
      "working on shank 6 with channels: [8, 9, 10, 11, 12, 13, 14, 15]...\n",
      "Normalizing data... Done!\n",
      "Shape of loaded data after downsampling and z-score:  (2635184, 8)\n",
      "Generating windows... Done!\n",
      "10294/10294 [==============================] - 9s 851us/step\n",
      "Done!\n",
      "Getting detected ripples indexes and times... Done!\n",
      "working on shank 7 with channels: [48, 49, 50, 51, 52, 53, 54, 55]...\n",
      "Normalizing data... Done!\n",
      "Shape of loaded data after downsampling and z-score:  (2635184, 8)\n",
      "Generating windows... Done!\n",
      "10294/10294 [==============================] - 9s 879us/step\n",
      "Done!\n",
      "Getting detected ripples indexes and times... Done!\n",
      "working on shank 8 with channels: [24, 25, 26, 27, 28, 29, 30, 31]...\n",
      "Normalizing data... Done!\n",
      "Shape of loaded data after downsampling and z-score:  (2635184, 8)\n",
      "Generating windows... Done!\n",
      "10294/10294 [==============================] - 9s 848us/step\n",
      "Done!\n",
      "Getting detected ripples indexes and times... Done!\n",
      "working on shank 9 with channels: [0, 1, 2, 3, 4, 5, 6, 7]...\n",
      "Normalizing data... Done!\n",
      "Shape of loaded data after downsampling and z-score:  (2635184, 8)\n",
      "Generating windows... Done!\n",
      "10294/10294 [==============================] - 9s 854us/step\n",
      "Done!\n",
      "Getting detected ripples indexes and times... Done!\n",
      "working on shank 10 with channels: [16, 17, 18, 19, 20, 21, 22, 23]...\n",
      "Normalizing data... Done!\n",
      "Shape of loaded data after downsampling and z-score:  (2635184, 8)\n",
      "Generating windows... Done!\n",
      "10294/10294 [==============================] - 9s 856us/step\n",
      "Done!\n",
      "Getting detected ripples indexes and times... Done!\n",
      "working on shank 11 with channels: [64, 65, 66, 67, 68, 69, 70, 71]...\n",
      "Normalizing data... Done!\n",
      "Shape of loaded data after downsampling and z-score:  (2635184, 8)\n",
      "Generating windows... Done!\n",
      "10294/10294 [==============================] - 9s 854us/step\n",
      "Done!\n",
      "Getting detected ripples indexes and times... Done!\n",
      "done with all!\n",
      "Saving ripple_df to csv: W:\\Data\\KDIBA\\gor01\\one\\2006-6-08_14-26-15\\pred_ripples.csv\n",
      "done. Exiting.\n",
      "saving entire ripple detector object to W:\\Data\\KDIBA\\gor01\\one\\2006-6-08_14-26-15\\ripple_detector.pkl...\n",
      "done.\n"
     ]
    },
    {
     "data": {
      "application/vnd.jupyter.widget-view+json": {
       "model_id": "c91fb88a06e347f282bf3d22f7302da1",
       "version_major": 2,
       "version_minor": 0
      },
      "text/plain": [
       "Button(description='VizTracer Report', style=ButtonStyle())"
      ]
     },
     "metadata": {},
     "output_type": "display_data"
    }
   ],
   "source": [
    "%%viztracer\n",
    "active_detector, ripple_df, out_all_ripple_results = main_compute_with_params_loaded_from_xml(local_session_path)"
   ]
  },
  {
   "cell_type": "markdown",
   "id": "99619d6a-cf98-4aa9-a376-14c8ddd1e155",
   "metadata": {
    "jp-MarkdownHeadingCollapsed": true,
    "tags": []
   },
   "source": [
    "## Load previously computed result"
   ]
  },
  {
   "cell_type": "code",
   "execution_count": null,
   "id": "c1004c9f-8f76-4df9-a015-86c0a835abb3",
   "metadata": {},
   "outputs": [],
   "source": [
    "loaded_ripple_detector = ExtendedRippleDetection.load(local_session_path)\n",
    "loaded_ripple_detector"
   ]
  },
  {
   "cell_type": "code",
   "execution_count": null,
   "id": "ddf61cfb-33cd-49c8-819c-f952bdb9c1d5",
   "metadata": {},
   "outputs": [],
   "source": [
    "ripple_predictions_df = loaded_ripple_detector.continuous_ripple_likelihoods_df\n",
    "prediction_timesteps = loaded_ripple_detector.continuous_ripple_prediction_timesteps\n",
    "prediction_values = loaded_ripple_detector.continuous_ripple_shanks_prediction_values_array \n",
    "new_ripple_df = loaded_ripple_detector.detected_ripple_epochs_df"
   ]
  },
  {
   "cell_type": "code",
   "execution_count": null,
   "id": "e225df47-0028-4a9e-bd5c-69e62ae4d87b",
   "metadata": {},
   "outputs": [],
   "source": [
    "# ripple_predictions_df[ripple_predictions_df.columns[1:]]\n",
    "[ripple_predictions_df[col].to_numpy() for col in ripple_predictions_df.columns[1:]]"
   ]
  },
  {
   "cell_type": "code",
   "execution_count": null,
   "id": "27cfc834-e8a1-48b6-925b-526a3cb8f314",
   "metadata": {
    "scrolled": true,
    "tags": []
   },
   "outputs": [],
   "source": [
    "loaded_ripple_detector.out_all_ripple_results"
   ]
  },
  {
   "cell_type": "code",
   "execution_count": null,
   "id": "362cc835-6939-46ab-a7a3-0b03451bdd27",
   "metadata": {
    "scrolled": true,
    "tags": []
   },
   "outputs": [],
   "source": [
    "loaded_ripple_detector.good_results"
   ]
  },
  {
   "cell_type": "markdown",
   "id": "13962a16-9027-4307-84ca-3e86d6197430",
   "metadata": {
    "jp-MarkdownHeadingCollapsed": true,
    "tags": []
   },
   "source": [
    "## Build and run completely new detector:"
   ]
  },
  {
   "cell_type": "code",
   "execution_count": null,
   "id": "448fada4-1405-430f-8233-a574a56b68ad",
   "metadata": {},
   "outputs": [],
   "source": [
    "session_xml_filepath, session_stem, local_session_path = find_session_xml(local_session_path)\n",
    "out_xml_dict, d = LoadXml(session_xml_filepath)\n",
    "active_shank_channels_lists = out_xml_dict['AnatGrps']\n",
    "# active_shank_channels_lists = [active_shank_channels_lists[i] for i in [0,1,2]]\n",
    "print(f\"active_shank_channels_lists: {active_shank_channels_lists}\")"
   ]
  },
  {
   "cell_type": "code",
   "execution_count": null,
   "id": "1f8582a0-7dc6-45ca-8d73-a16d00d338a3",
   "metadata": {},
   "outputs": [],
   "source": [
    "test_detector = ExtendedRippleDetection(learning_rate=0.001, beta_1=0.9, beta_2=0.999, epsilon=1e-07, amsgrad=False)\n",
    "ripple_df, out_all_ripple_results = test_detector.compute(**({'active_session_folder': local_session_path,\n",
    "     'numchannel': out_xml_dict['nChannels'], 'srLfp': out_xml_dict['lfpSampleRate'], 'active_shank_channels_lists': active_shank_channels_lists,\n",
    "     'overlapping': True, 'window_size': 0.0128, 'window_stride': 0.0064}))\n",
    "\n",
    "# out_all_ripple_results\n",
    "ripple_df.to_pickle(local_session_path.joinpath('ripple_df.pkl'))\n",
    "print(f'done. Exiting.')\n",
    "\n",
    "test_detector.save()"
   ]
  },
  {
   "cell_type": "markdown",
   "id": "5a49c0ba-6847-40b6-93eb-2f3f585b876e",
   "metadata": {
    "jp-MarkdownHeadingCollapsed": true,
    "tags": []
   },
   "source": [
    "# Result Visualization"
   ]
  },
  {
   "cell_type": "code",
   "execution_count": null,
   "id": "6835a848-0270-42f1-8b96-86613512da3a",
   "metadata": {},
   "outputs": [],
   "source": [
    "from cnn_ripple.visualizations.plot_ripples import plot_ripples\n",
    "\n",
    "#@title Time (in seconds) { run: \"auto\", vertical-output: true, display-mode: \"form\" }\n",
    "second =  0#@param {type:\"integer\"}\n",
    "\n",
    "pred_indexes = loaded_ripple_detector.results[0]['pred_indexes'] # note only uses shank 0\n",
    "fig, ax, plot_data = plot_ripples(loaded_ripple_detector.loaded_eeg_data, pred_indexes, second, downsampled_fs=1250)\n",
    "# plot_data: {'lines':lines, 'fills':fills}"
   ]
  },
  {
   "cell_type": "code",
   "execution_count": null,
   "id": "464c744f-2c48-4677-a340-a21a64c01c46",
   "metadata": {},
   "outputs": [],
   "source": []
  },
  {
   "cell_type": "markdown",
   "id": "78c2f0c5-0b58-4ded-9c8a-4fb03324a1d5",
   "metadata": {
    "tags": []
   },
   "source": [
    "# Overflow"
   ]
  },
  {
   "cell_type": "code",
   "execution_count": null,
   "id": "b8bb22e6-cc03-43c6-a455-c9d9dcd9c710",
   "metadata": {},
   "outputs": [],
   "source": [
    "## Update old pickled objects 2022-11-05:\n",
    "loaded_ripple_detector._detected_ripple_epochs_df = ExtendedRippleDetection._build_post_load_ripple_df(loaded_ripple_detector.good_results.copy(), debug_print=False)\n",
    "print(f'Saving ripple_df to csv: {loaded_ripple_detector.predicted_ripples_dataframe_csv_save_filepath}')\n",
    "detected_ripple_epochs_df.to_csv(loaded_ripple_detector.predicted_ripples_dataframe_csv_save_filepath)\n",
    "loaded_ripple_detector.save()"
   ]
  },
  {
   "cell_type": "code",
   "execution_count": null,
   "id": "7d6a786a-8d1d-4649-9e14-cc696cb95937",
   "metadata": {},
   "outputs": [],
   "source": [
    "def keys(a_dict, debug_print=True):\n",
    "    out_list = list(a_dict.keys())\n",
    "    if debug_print:\n",
    "        print(out_list)\n",
    "    return out_list"
   ]
  },
  {
   "cell_type": "code",
   "execution_count": null,
   "id": "88cd42f9-a672-4607-a4b0-12e5316f1ccf",
   "metadata": {},
   "outputs": [],
   "source": [
    "test_detector, ripple_df, out_all_ripple_results, out_all_ripple_results = main_compute_with_params_loaded_from_xml(active_local_session_path)"
   ]
  },
  {
   "cell_type": "code",
   "execution_count": null,
   "id": "537547ba-bd1c-4da2-9229-c470738cd79b",
   "metadata": {},
   "outputs": [],
   "source": [
    "out_all_ripple_results['preprocessed_data']['data']"
   ]
  },
  {
   "cell_type": "code",
   "execution_count": null,
   "id": "97c85508-a504-4ae8-8478-77a2181a76a0",
   "metadata": {},
   "outputs": [],
   "source": [
    "out_all_ripple_results['computation_params']"
   ]
  },
  {
   "cell_type": "code",
   "execution_count": null,
   "id": "16559642-7112-4055-b537-f42dbeaf6192",
   "metadata": {},
   "outputs": [],
   "source": [
    "print(list(out_all_ripple_results['computation_params'].keys()))"
   ]
  },
  {
   "cell_type": "code",
   "execution_count": null,
   "id": "ce386abd-8cde-444f-85ed-d8ab66de01ce",
   "metadata": {},
   "outputs": [],
   "source": [
    "keys(out_all_ripple_results['computation_params'])\n",
    "keys(out_all_ripple_results['preprocessed_data'])\n",
    "keys(out_all_ripple_results['results'])"
   ]
  },
  {
   "cell_type": "code",
   "execution_count": null,
   "id": "d64e14b9-f9bb-4f01-b3c8-fd63d80848a8",
   "metadata": {},
   "outputs": [],
   "source": [
    "from neuropy.utils.dynamic_container import DynamicContainer, override_dict, overriding_dict_with, get_dict_subset\n",
    "\n",
    "# ['overlapping', 'window_size', 'stride', 'threshold', 'learning_rate', 'beta_1', 'beta_2', 'epsilon', 'amsgrad']\n",
    "get_dict_subset(out_all_ripple_results['computation_params'], ['learning_rate', 'beta_1', 'beta_2', 'epsilon', 'amsgrad'])"
   ]
  },
  {
   "cell_type": "code",
   "execution_count": null,
   "id": "6bdff934-d712-4832-93db-bd26c03e62ba",
   "metadata": {},
   "outputs": [],
   "source": [
    "test_detector.save()"
   ]
  },
  {
   "cell_type": "code",
   "execution_count": null,
   "id": "3d015c86-bbac-42da-be8b-7974b77872e5",
   "metadata": {},
   "outputs": [],
   "source": [
    "loaded_ripple_detector.loaded_eeg_data"
   ]
  },
  {
   "cell_type": "code",
   "execution_count": null,
   "id": "72442eb4-12de-47a3-aceb-e53e26f0f018",
   "metadata": {},
   "outputs": [],
   "source": [
    "keys(loaded_ripple_detector.results[0]['pred_indexes'])"
   ]
  },
  {
   "cell_type": "markdown",
   "id": "80a6642b-8367-4778-94fb-ed7d3c36232a",
   "metadata": {},
   "source": [
    "## Batch resave previous pickles:"
   ]
  },
  {
   "cell_type": "code",
   "execution_count": null,
   "id": "8ca8096c-c169-42bd-9505-e07bf293518b",
   "metadata": {},
   "outputs": [],
   "source": [
    "for local_session_path in local_session_paths_list:\n",
    "    in_ripple_detector_filepath = local_session_path.joinpath('ripple_detector.pkl')\n",
    "    print(f'in_ripple_detector_filepath: {in_ripple_detector_filepath}')\n",
    "    loaded_ripple_detector = ExtendedRippleDetection.load(in_ripple_detector_filepath)\n",
    "    loaded_ripple_detector.save()"
   ]
  },
  {
   "cell_type": "code",
   "execution_count": null,
   "id": "1a8bf529-7994-449b-815e-99082835a7f0",
   "metadata": {},
   "outputs": [],
   "source": []
  },
  {
   "cell_type": "code",
   "execution_count": null,
   "id": "2259d449-cd9c-4d13-b2cf-f51225159776",
   "metadata": {},
   "outputs": [],
   "source": []
  }
 ],
 "metadata": {
  "kernelspec": {
   "display_name": "Python 3 (ipykernel)",
   "language": "python",
   "name": "python3"
  },
  "language_info": {
   "codemirror_mode": {
    "name": "ipython",
    "version": 3
   },
   "file_extension": ".py",
   "mimetype": "text/x-python",
   "name": "python",
   "nbconvert_exporter": "python",
   "pygments_lexer": "ipython3",
   "version": "3.9.12"
  }
 },
 "nbformat": 4,
 "nbformat_minor": 5
}
