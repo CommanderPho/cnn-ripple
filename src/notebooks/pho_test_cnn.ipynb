{
 "cells": [
  {
   "cell_type": "code",
   "execution_count": 2,
   "id": "231ba909-2b0a-4b0d-92c7-cae77411c712",
   "metadata": {},
   "outputs": [
    {
     "name": "stdout",
     "output_type": "stream",
     "text": [
      "Automatic pdb calling has been turned OFF\n"
     ]
    }
   ],
   "source": [
    "\"\"\"\n",
    "@author: pho\n",
    "\"\"\"\n",
    "## Automatic debugger on exception raised\n",
    "# %pdb on\n",
    "%pdb off\n",
    "%load_ext autoreload\n",
    "%autoreload 2\n",
    "import sys\n",
    "import importlib\n",
    "from pathlib import Path\n",
    "from copy import deepcopy\n",
    "from numba import jit\n",
    "import numpy as np\n",
    "import pandas as pd\n",
    "\n",
    "%config Completer.use_jedi = False\n",
    "\n",
    "# # required to enable non-blocking interaction:\n",
    "%gui qt5\n",
    "\n",
    "import os\n",
    "import numpy as np\n",
    "import pandas as pd\n",
    "from pathlib import Path\n",
    "import dill as pickle\n",
    "\n",
    "from neuropy.utils.load_exported import LoadXml, find_session_xml # for compute_with_params_loaded_from_xml\n",
    "# from cnn_ripple.PhoRippleDetectionTesting import ExtendedRippleDetection, main_compute_with_params_loaded_from_xml\n",
    "from cnn_ripple.PhoRippleDetectionTesting import ExtendedRippleDetection, main_compute_with_params_loaded_from_xml\n",
    "# from cnn_ripple.PhoRippleDetectionTesting import ExtendedRippleDetection, main_compute_with_params_loaded_from_xml"
   ]
  },
  {
   "cell_type": "code",
   "execution_count": 8,
   "id": "9a76538a-04c3-4dde-a5f3-08bb526846b3",
   "metadata": {},
   "outputs": [],
   "source": [
    "def _perform_load_cnn_computed_ripples(active_local_session_path):\n",
    "    \"\"\"\n",
    "    loaded_ripple_detector = _perform_load_cnn_computed_ripples(curr_active_pipeline.sess.basepath)\n",
    "    loaded_ripple_detector\n",
    "    \"\"\"\n",
    "    ## Load existing result instead\n",
    "    in_ripple_detector_filepath = active_local_session_path.joinpath('ripple_detector.pkl') # Path(r'W:\\Data\\KDIBA\\gor01\\one\\2006-6-07_11-26-53\\ripple_detector.pkl')\n",
    "    loaded_ripple_detector = ExtendedRippleDetection.load(in_ripple_detector_filepath)\n",
    "    return loaded_ripple_detector\n",
    "\n",
    "## Continuous prediction probabilities:\n",
    "def _build_cnn_computed_ripple_prediction_probabilities(loaded_ripple_detector, shank_id: int):  \n",
    "    \"\"\"\n",
    "    ripple_predictions_df, (prediction_timesteps, prediction_values) = _build_cnn_computed_ripple_prediction_probabilities(loaded_ripple_detector, shank_id=2)\n",
    "    ripple_predictions_df\n",
    "    \"\"\"\n",
    "    # out_all_ripple_results = DynamicContainer.init_from_dict(pd.read_pickle(r'W:\\Data\\KDIBA\\gor01\\one\\2006-6-08_14-26-15\\out_all_ripple_results.pkl'))\n",
    "    out_all_ripple_results = DynamicContainer.init_from_dict(loaded_ripple_detector.out_all_ripple_results.copy())\n",
    "    # list(out_all_ripple_results.keys()) # ['computation_params', 'results']\n",
    "    assert shank_id in out_all_ripple_results.results, f\"{shank_id} is not in results list: {list(out_all_ripple_results.results.keys())}\"\n",
    "    a_result = out_all_ripple_results.results[shank_id]\n",
    "    a_result['predictions'].shape # (329925, 1, 1)\n",
    "    # list(out_all_ripple_results.results.keys()) # [0, 1, 2, 3]\n",
    "    dt = out_all_ripple_results.computation_params['stride']\n",
    "    prediction_timesteps = np.arange(np.size(a_result['predictions'])) * dt # + curr_active_pipeline.sess.t_start\n",
    "    prediction_values = np.squeeze(a_result['predictions'])\n",
    "    ripple_predictions_df = pd.DataFrame({'t': prediction_timesteps, 'v': prediction_values})\n",
    "    return ripple_predictions_df, (prediction_timesteps, prediction_values)\n",
    "\n",
    "\n",
    "def _build_post_load_ripple_df(out_all_ripple_results):\n",
    "    \"\"\" adds the 'shank_idx'\n",
    "    out_all_ripple_results = loaded_ripple_detector.out_all_ripple_results.copy()\n",
    "    ripple_df = _build_post_load_ripple_df(out_all_ripple_results)\n",
    "    \"\"\"\n",
    "    out_all_ripple_results_good_results = {k:v for k, v in loaded_ripple_detector.out_all_ripple_results['results'].items() if np.size(v['pred_times'])>0} # Exclude empty items from the output dictionary\n",
    "    # out_all_ripple_results_good_results\n",
    "    flattened_pred_ripple_shank_idxs = np.hstack([np.full_like(np.squeeze(a_result['pred_times'][:,0]), a_result['shank'], dtype=np.int16) for a_result in out_all_ripple_results_good_results.values()])\n",
    "    print(np.shape(flattened_pred_ripple_shank_idxs)) # (6016,)\n",
    "    flattened_pred_ripple_start_stop_times = np.vstack([a_result['pred_times'] for a_result in out_all_ripple_results_good_results.values() if np.size(a_result['pred_times'])>0])\n",
    "    print(f'flattened_pred_ripple_start_stop_times: {np.shape(flattened_pred_ripple_start_stop_times)}') # (6498, 2)\n",
    "    ripple_df = pd.DataFrame({'start':flattened_pred_ripple_start_stop_times[:,0], 'stop': flattened_pred_ripple_start_stop_times[:,1], 'shank_idx': flattened_pred_ripple_shank_idxs})\n",
    "    ripple_df = ripple_df.sort_values(by=['start']) # sort the values by the start time\n",
    "    return ripple_df\n",
    "\n"
   ]
  },
  {
   "cell_type": "code",
   "execution_count": 6,
   "id": "8441bef1-8ea6-4030-bb55-56227625070e",
   "metadata": {},
   "outputs": [],
   "source": []
  },
  {
   "cell_type": "code",
   "execution_count": 6,
   "id": "eec1d200-5b3e-4b45-99a6-b8f811ab3358",
   "metadata": {},
   "outputs": [],
   "source": [
    "local_session_parent_path = Path(r'W:\\Data\\KDIBA\\gor01\\one')\n",
    "# local_session_parent_path = Path(r'/Volumes/MoverNew/data/KDIBA/gor01/one')\n",
    "local_session_names_list = ['2006-6-07_11-26-53', '2006-6-08_14-26-15', '2006-6-09_1-22-43', '2006-6-09_3-23-37', '2006-6-12_15-55-31', '2006-6-13_14-42-6']\n",
    "local_session_paths_list = [local_session_parent_path.joinpath(a_name).resolve() for a_name in local_session_names_list]\n",
    "\n",
    "local_session_path: Path = local_session_paths_list[1]\n",
    "local_session_path"
   ]
  },
  {
   "cell_type": "code",
   "execution_count": 6,
   "id": "70da48e5-5cde-4e3a-bd38-2438568527ad",
   "metadata": {},
   "outputs": [
    {
     "data": {
      "text/plain": [
       "WindowsPath('W:/Data/KDIBA/gor01/one/2006-6-08_14-26-15')"
      ]
     },
     "execution_count": 6,
     "metadata": {},
     "output_type": "execute_result"
    }
   ],
   "source": []
  },
  {
   "cell_type": "markdown",
   "id": "99619d6a-cf98-4aa9-a376-14c8ddd1e155",
   "metadata": {
    "tags": []
   },
   "source": [
    "## Load previously computed result"
   ]
  },
  {
   "cell_type": "code",
   "execution_count": 6,
   "id": "17f4cf7e-e173-45a8-9e36-63ed98b494ea",
   "metadata": {},
   "outputs": [],
   "source": [
    "loaded_ripple_detector = _perform_load_cnn_computed_ripples(curr_active_pipeline.sess.basepath)\n",
    "# loaded_ripple_detector\n",
    "\n",
    "ripple_predictions_df, (prediction_timesteps, prediction_values) = _build_cnn_computed_ripple_prediction_probabilities(loaded_ripple_detector, shank_id=2)\n",
    "# ripple_predictions_df\n",
    "\n",
    "# Build the improved ripple_df:\n",
    "out_all_ripple_results =  DynamicContainer.init_from_dict(loaded_ripple_detector.out_all_ripple_results.copy())\n",
    "new_ripple_df = _build_post_load_ripple_df(out_all_ripple_results)"
   ]
  },
  {
   "cell_type": "markdown",
   "id": "13962a16-9027-4307-84ca-3e86d6197430",
   "metadata": {
    "tags": []
   },
   "source": [
    "## Build and run completely new detector:"
   ]
  },
  {
   "cell_type": "code",
   "execution_count": 3,
   "id": "448fada4-1405-430f-8233-a574a56b68ad",
   "metadata": {},
   "outputs": [
    {
     "name": "stdout",
     "output_type": "stream",
     "text": [
      "active_shank_channels_lists: [[0, 1, 2, 3, 4, 5, 6, 7], [8, 9, 10, 11, 12, 13, 14, 15], [16, 17, 18, 19, 20, 21, 22, 23], [24, 25, 26, 27, 28, 29, 30, 31], [32, 33, 34, 35, 36, 37, 38, 39], [40, 41, 42, 43, 44, 45, 46, 47], [48, 49, 50, 51, 52, 53, 54, 55], [56, 57, 58, 59, 60, 61, 62, 63], [64, 65, 66, 67, 68, 69, 70, 71], [72, 73, 74, 75, 76, 77, 78, 79], [80, 81, 82, 83, 84, 85, 86, 87], [88, 89, 90, 91, 92, 93, 94, 95]]\n"
     ]
    }
   ],
   "source": [
    "session_xml_filepath, session_stem, local_session_path = find_session_xml(local_session_path)\n",
    "out_xml_dict, d = LoadXml(session_xml_filepath)\n",
    "active_shank_channels_lists = out_xml_dict['AnatGrps']\n",
    "# active_shank_channels_lists = [active_shank_channels_lists[i] for i in [0,1,2]]\n",
    "print(f\"active_shank_channels_lists: {active_shank_channels_lists}\")"
   ]
  },
  {
   "cell_type": "code",
   "execution_count": 4,
   "id": "1f8582a0-7dc6-45ca-8d73-a16d00d338a3",
   "metadata": {},
   "outputs": [
    {
     "name": "stdout",
     "output_type": "stream",
     "text": [
      "Loading CNN model... WARNING:tensorflow:SavedModel saved prior to TF 2.5 detected when loading Keras model. Please ensure that you are saving the model with model.save() or tf.keras.models.save_model(), *NOT* tf.saved_model.save(). To confirm, there should be a file named \"keras_metadata.pb\" in the SavedModel directory.\n"
     ]
    },
    {
     "name": "stderr",
     "output_type": "stream",
     "text": [
      "2022-11-03 12:12:57.272304: I tensorflow/core/platform/cpu_feature_guard.cc:193] This TensorFlow binary is optimized with oneAPI Deep Neural Network Library (oneDNN) to use the following CPU instructions in performance-critical operations:  AVX2 FMA\n",
      "To enable them in other operations, rebuild TensorFlow with the appropriate compiler flags.\n"
     ]
    },
    {
     "name": "stdout",
     "output_type": "stream",
     "text": [
      "Done!\n",
      "active_session_folder: /Volumes/MoverNew/data/KDIBA/gor01/one/2006-6-07_11-26-53\n",
      "active_session_eeg_data_filepath: /Volumes/MoverNew/data/KDIBA/gor01/one/2006-6-07_11-26-53/2006-6-07_11-26-53.eeg\n",
      "Shape of loaded data:  (2476505, 96)\n",
      "Downsampling data from 1252 Hz to 1250 Hz... Done!\n",
      "working on shank 0 with channels: [0, 1, 2, 3, 4, 5, 6, 7]...\n",
      "Normalizing data... Done!\n",
      "Shape of loaded data after downsampling and z-score:  (2472549, 8)\n",
      "Generating windows... Done!\n",
      "9659/9659 [==============================] - 8s 801us/step\n",
      "Done!\n",
      "Getting detected ripples indexes and times... Done!\n",
      "working on shank 1 with channels: [8, 9, 10, 11, 12, 13, 14, 15]...\n",
      "Normalizing data... Done!\n",
      "Shape of loaded data after downsampling and z-score:  (2472549, 8)\n",
      "Generating windows... Done!\n",
      "9659/9659 [==============================] - 8s 799us/step\n",
      "Done!\n",
      "Getting detected ripples indexes and times... Done!\n",
      "working on shank 2 with channels: [16, 17, 18, 19, 20, 21, 22, 23]...\n",
      "Normalizing data... Done!\n",
      "Shape of loaded data after downsampling and z-score:  (2472549, 8)\n",
      "Generating windows... Done!\n",
      "9659/9659 [==============================] - 8s 814us/step\n",
      "Done!\n",
      "Getting detected ripples indexes and times... Done!\n",
      "working on shank 3 with channels: [24, 25, 26, 27, 28, 29, 30, 31]...\n",
      "Normalizing data... Done!\n",
      "Shape of loaded data after downsampling and z-score:  (2472549, 8)\n",
      "Generating windows... Done!\n",
      "9659/9659 [==============================] - 8s 810us/step\n",
      "Done!\n",
      "Getting detected ripples indexes and times... Done!\n",
      "working on shank 4 with channels: [32, 33, 34, 35, 36, 37, 38, 39]...\n",
      "Normalizing data... Done!\n",
      "Shape of loaded data after downsampling and z-score:  (2472549, 8)\n",
      "Generating windows... Done!\n",
      "9659/9659 [==============================] - 8s 831us/step\n",
      "Done!\n",
      "Getting detected ripples indexes and times... Done!\n",
      "working on shank 5 with channels: [40, 41, 42, 43, 44, 45, 46, 47]...\n",
      "Normalizing data... Done!\n",
      "Shape of loaded data after downsampling and z-score:  (2472549, 8)\n",
      "Generating windows... Done!\n",
      "9659/9659 [==============================] - 8s 820us/step\n",
      "Done!\n",
      "Getting detected ripples indexes and times... Done!\n",
      "working on shank 6 with channels: [48, 49, 50, 51, 52, 53, 54, 55]...\n",
      "Normalizing data... Done!\n",
      "Shape of loaded data after downsampling and z-score:  (2472549, 8)\n",
      "Generating windows... Done!\n",
      "9659/9659 [==============================] - 8s 821us/step\n",
      "Done!\n",
      "Getting detected ripples indexes and times... Done!\n",
      "working on shank 7 with channels: [56, 57, 58, 59, 60, 61, 62, 63]...\n",
      "Normalizing data... Done!\n",
      "Shape of loaded data after downsampling and z-score:  (2472549, 8)\n",
      "Generating windows... Done!\n",
      "9659/9659 [==============================] - 8s 830us/step\n",
      "Done!\n",
      "Getting detected ripples indexes and times... Done!\n",
      "working on shank 8 with channels: [64, 65, 66, 67, 68, 69, 70, 71]...\n",
      "Normalizing data... Done!\n",
      "Shape of loaded data after downsampling and z-score:  (2472549, 8)\n",
      "Generating windows... Done!\n",
      "9659/9659 [==============================] - 8s 830us/step\n",
      "Done!\n",
      "Getting detected ripples indexes and times... Done!\n",
      "working on shank 9 with channels: [72, 73, 74, 75, 76, 77, 78, 79]...\n",
      "Normalizing data... Done!\n",
      "Shape of loaded data after downsampling and z-score:  (2472549, 8)\n",
      "Generating windows... Done!\n",
      "9659/9659 [==============================] - 8s 827us/step\n",
      "Done!\n",
      "Getting detected ripples indexes and times... Done!\n",
      "working on shank 10 with channels: [80, 81, 82, 83, 84, 85, 86, 87]...\n",
      "Normalizing data... Done!\n",
      "Shape of loaded data after downsampling and z-score:  (2472549, 8)\n",
      "Generating windows... Done!\n",
      "9659/9659 [==============================] - 8s 848us/step\n",
      "Done!\n",
      "Getting detected ripples indexes and times... Done!\n",
      "working on shank 11 with channels: [88, 89, 90, 91, 92, 93, 94, 95]...\n",
      "Normalizing data... Done!\n",
      "Shape of loaded data after downsampling and z-score:  (2472549, 8)\n",
      "Generating windows... Done!\n",
      "9659/9659 [==============================] - 8s 850us/step\n",
      "Done!\n",
      "Getting detected ripples indexes and times... Done!\n",
      "done with all!\n",
      "saving results to /Volumes/MoverNew/data/KDIBA/gor01/one/2006-6-07_11-26-53/out_all_ripple_results.pkl...\n",
      "done.\n",
      "flattened_pred_ripple_start_stop_times: (2904, 2)\n",
      "Saving ripple_df to csv: /Volumes/MoverNew/data/KDIBA/gor01/one/2006-6-07_11-26-53/pred_ripples.csv\n",
      "done. Exiting.\n",
      "saving entire ripple detector object to /Volumes/MoverNew/data/KDIBA/gor01/one/2006-6-07_11-26-53/ripple_detector.pkl...\n",
      "done.\n"
     ]
    }
   ],
   "source": [
    "test_detector = ExtendedRippleDetection(learning_rate=0.001, beta_1=0.9, beta_2=0.999, epsilon=1e-07, amsgrad=False)\n",
    "ripple_df, out_all_ripple_results = test_detector.compute(**({'active_session_folder': local_session_path,\n",
    "     'numchannel': out_xml_dict['nChannels'], 'srLfp': out_xml_dict['lfpSampleRate'], 'active_shank_channels_lists': active_shank_channels_lists,\n",
    "     'overlapping': True, 'window_size': 0.0128, 'window_stride': 0.0064}))\n",
    "\n",
    "# out_all_ripple_results\n",
    "ripple_df.to_pickle(local_session_path.joinpath('ripple_df.pkl'))\n",
    "print(f'done. Exiting.')\n",
    "\n",
    "test_detector.save()"
   ]
  },
  {
   "cell_type": "markdown",
   "id": "5a49c0ba-6847-40b6-93eb-2f3f585b876e",
   "metadata": {},
   "source": [
    "# Result Visualization"
   ]
  },
  {
   "cell_type": "code",
   "execution_count": null,
   "id": "6835a848-0270-42f1-8b96-86613512da3a",
   "metadata": {},
   "outputs": [],
   "source": [
    "from cnn_ripple.visualizations.plot_ripples import plot_ripples\n",
    "\n",
    "#@title Time (in seconds) { run: \"auto\", vertical-output: true, display-mode: \"form\" }\n",
    "second =  0#@param {type:\"integer\"}\n",
    "\n",
    "pred_indexes = loaded_ripple_detector.results[0]['pred_indexes'] # note only uses shank 0\n",
    "fig, ax, plot_data = plot_ripples(loaded_ripple_detector.loaded_eeg_data, pred_indexes, second, downsampled_fs=1250)\n",
    "# plot_data: {'lines':lines, 'fills':fills}"
   ]
  },
  {
   "cell_type": "code",
   "execution_count": null,
   "id": "464c744f-2c48-4677-a340-a21a64c01c46",
   "metadata": {},
   "outputs": [],
   "source": []
  },
  {
   "cell_type": "markdown",
   "id": "78c2f0c5-0b58-4ded-9c8a-4fb03324a1d5",
   "metadata": {
    "tags": []
   },
   "source": [
    "# Overflow"
   ]
  },
  {
   "cell_type": "code",
   "execution_count": null,
   "id": "7d6a786a-8d1d-4649-9e14-cc696cb95937",
   "metadata": {},
   "outputs": [],
   "source": [
    "def keys(a_dict, debug_print=True):\n",
    "    out_list = list(a_dict.keys())\n",
    "    if debug_print:\n",
    "        print(out_list)\n",
    "    return out_list"
   ]
  },
  {
   "cell_type": "code",
   "execution_count": null,
   "id": "88cd42f9-a672-4607-a4b0-12e5316f1ccf",
   "metadata": {},
   "outputs": [],
   "source": [
    "test_detector, ripple_df, out_all_ripple_results, out_all_ripple_results = main_compute_with_params_loaded_from_xml(active_local_session_path)"
   ]
  },
  {
   "cell_type": "code",
   "execution_count": null,
   "id": "537547ba-bd1c-4da2-9229-c470738cd79b",
   "metadata": {},
   "outputs": [],
   "source": [
    "out_all_ripple_results['preprocessed_data']['data']"
   ]
  },
  {
   "cell_type": "code",
   "execution_count": null,
   "id": "97c85508-a504-4ae8-8478-77a2181a76a0",
   "metadata": {},
   "outputs": [],
   "source": [
    "out_all_ripple_results['computation_params']"
   ]
  },
  {
   "cell_type": "code",
   "execution_count": null,
   "id": "16559642-7112-4055-b537-f42dbeaf6192",
   "metadata": {},
   "outputs": [],
   "source": [
    "print(list(out_all_ripple_results['computation_params'].keys()))"
   ]
  },
  {
   "cell_type": "code",
   "execution_count": null,
   "id": "ce386abd-8cde-444f-85ed-d8ab66de01ce",
   "metadata": {},
   "outputs": [],
   "source": [
    "keys(out_all_ripple_results['computation_params'])\n",
    "keys(out_all_ripple_results['preprocessed_data'])\n",
    "keys(out_all_ripple_results['results'])"
   ]
  },
  {
   "cell_type": "code",
   "execution_count": null,
   "id": "d64e14b9-f9bb-4f01-b3c8-fd63d80848a8",
   "metadata": {},
   "outputs": [],
   "source": [
    "from neuropy.utils.dynamic_container import DynamicContainer, override_dict, overriding_dict_with, get_dict_subset\n",
    "\n",
    "# ['overlapping', 'window_size', 'stride', 'threshold', 'learning_rate', 'beta_1', 'beta_2', 'epsilon', 'amsgrad']\n",
    "get_dict_subset(out_all_ripple_results['computation_params'], ['learning_rate', 'beta_1', 'beta_2', 'epsilon', 'amsgrad'])"
   ]
  },
  {
   "cell_type": "code",
   "execution_count": null,
   "id": "6bdff934-d712-4832-93db-bd26c03e62ba",
   "metadata": {},
   "outputs": [],
   "source": [
    "test_detector.save()"
   ]
  },
  {
   "cell_type": "code",
   "execution_count": null,
   "id": "3d015c86-bbac-42da-be8b-7974b77872e5",
   "metadata": {},
   "outputs": [],
   "source": [
    "loaded_ripple_detector.loaded_eeg_data"
   ]
  },
  {
   "cell_type": "code",
   "execution_count": null,
   "id": "72442eb4-12de-47a3-aceb-e53e26f0f018",
   "metadata": {},
   "outputs": [],
   "source": [
    "keys(loaded_ripple_detector.results[0]['pred_indexes'])"
   ]
  },
  {
   "cell_type": "markdown",
   "id": "80a6642b-8367-4778-94fb-ed7d3c36232a",
   "metadata": {},
   "source": [
    "## Batch resave previous pickles:"
   ]
  },
  {
   "cell_type": "code",
   "execution_count": null,
   "id": "8ca8096c-c169-42bd-9505-e07bf293518b",
   "metadata": {},
   "outputs": [],
   "source": [
    "for local_session_path in local_session_paths_list:\n",
    "    in_ripple_detector_filepath = local_session_path.joinpath('ripple_detector.pkl')\n",
    "    print(f'in_ripple_detector_filepath: {in_ripple_detector_filepath}')\n",
    "    loaded_ripple_detector = ExtendedRippleDetection.load(in_ripple_detector_filepath)\n",
    "    loaded_ripple_detector.save()"
   ]
  },
  {
   "cell_type": "code",
   "execution_count": null,
   "id": "1a8bf529-7994-449b-815e-99082835a7f0",
   "metadata": {},
   "outputs": [],
   "source": []
  },
  {
   "cell_type": "code",
   "execution_count": null,
   "id": "2259d449-cd9c-4d13-b2cf-f51225159776",
   "metadata": {},
   "outputs": [],
   "source": []
  }
 ],
 "metadata": {
  "kernelspec": {
   "display_name": "Python [conda env:cnn_ripple]",
   "language": "python",
   "name": "conda-env-cnn_ripple-py"
  },
  "language_info": {
   "codemirror_mode": {
    "name": "ipython",
    "version": 3
   },
   "file_extension": ".py",
   "mimetype": "text/x-python",
   "name": "python",
   "nbconvert_exporter": "python",
   "pygments_lexer": "ipython3",
   "version": "3.9.13"
  }
 },
 "nbformat": 4,
 "nbformat_minor": 5
}
